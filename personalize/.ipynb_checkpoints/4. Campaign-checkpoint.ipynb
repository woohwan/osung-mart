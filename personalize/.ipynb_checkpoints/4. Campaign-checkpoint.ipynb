{
 "cells": [
  {
   "cell_type": "code",
   "execution_count": 13,
   "id": "fbe36180-e97f-4c3a-a8c1-34905907a8ca",
   "metadata": {},
   "outputs": [],
   "source": [
    "import boto3\n",
    "from botocore.exceptions import ClientError\n",
    "import json\n",
    "import time\n",
    "import pandas as pd\n",
    "import numpy as np\n",
    "import uuid\n",
    "\n",
    "personalize = boto3.client(\"personalize\")\n",
    "personalize_runtime = boto3.client('personalize-runtime')\n",
    "personalize_events = boto3.client(\"personalize-events\")"
   ]
  },
  {
   "cell_type": "markdown",
   "id": "fcd80871-9713-4149-9e40-fa88897db6d4",
   "metadata": {},
   "source": [
    "#### Campaign 생성"
   ]
  },
  {
   "cell_type": "markdown",
   "id": "cd35d553-085e-402a-aa10-c8c26e823668",
   "metadata": {},
   "source": [
    "Campaign은 배포된 Solution Version입니다. 실질적을 추천서비스를 제공하는 endpoint입니다.\n",
    "가격은 처리율 즉 TPS에 따라 결정되며, 일반적으로 테스트시에는 1로 설정합니다.\n",
    "\n",
    "배포에는 약 10여분 정도가 소요됩니다"
   ]
  },
  {
   "cell_type": "code",
   "execution_count": 2,
   "id": "3bac77f7-26ae-4434-84a8-937c6f7f9840",
   "metadata": {},
   "outputs": [],
   "source": [
    "# 배포할 Solution Version\n",
    "solution_version_arn = \"\""
   ]
  },
  {
   "cell_type": "code",
   "execution_count": 3,
   "id": "e4c2a34c-4f4f-45ac-9a7f-63fcc789eed1",
   "metadata": {},
   "outputs": [],
   "source": [
    "suffix = \"20230208\"\n",
    "campaign_name = \"osungmart-campaign-\" + suffix"
   ]
  },
  {
   "cell_type": "code",
   "execution_count": null,
   "id": "feb8d3c9-ca66-4b5a-859e-ce3b3765a692",
   "metadata": {},
   "outputs": [],
   "source": [
    "try:\n",
    "    create_campaign_resp = personalize.create_campaign(\n",
    "        name = campaign_name,\n",
    "        solutionVersionArn = solution_version_arn,\n",
    "        minProvisionedTPS = 1\n",
    "    )\n",
    "    \n",
    "    campaign_arn = create_campaign_resp['campaignArn']\n",
    "    print(json.dumps(create_campaign_resp, indent=2))\n",
    "except ClientError as e:\n",
    "    if e.response[\"Error\"][\"Code\"] == \"ResourceAlreadyExistsException\":\n",
    "    print(f\"dataset group: {dataset_group_name} arleady exist\")\n",
    "  else:\n",
    "    raise\n"
   ]
  },
  {
   "cell_type": "code",
   "execution_count": null,
   "id": "3caafc6f-6cc1-42fc-a064-9c70e76c1919",
   "metadata": {},
   "outputs": [],
   "source": [
    "# Campaign 생성 모니터링\n",
    "status = None\n",
    "max_time = time.time() + 3*60*60 # 3 hours\n",
    "while time.time() < max_time:\n",
    "    describe_campaign_resp = personalize.describe_campaign(\n",
    "        campaignArn = campaign_arn\n",
    "    )\n",
    "    status = describe_campaign_resp[\"campaign\"][\"status\"]\n",
    "    print(\"Campaign: {}\".format(status))\n",
    "    \n",
    "    if status == \"ACTIVE\" or status == \"CREATE FAILED\":\n",
    "        break\n",
    "        \n",
    "    time.sleep(60)"
   ]
  },
  {
   "cell_type": "markdown",
   "id": "4b66065f-c6e5-46b8-aeac-83af82137421",
   "metadata": {},
   "source": [
    "#### 추천\n",
    "cleand data sample에서 user id를 추출해서 사용자에 따른 상품 추천을 테스트한다."
   ]
  },
  {
   "cell_type": "code",
   "execution_count": 6,
   "id": "8c6c9c12-0ec0-40ee-b7a6-2450f24ae868",
   "metadata": {},
   "outputs": [
    {
     "data": {
      "text/html": [
       "<div>\n",
       "<style scoped>\n",
       "    .dataframe tbody tr th:only-of-type {\n",
       "        vertical-align: middle;\n",
       "    }\n",
       "\n",
       "    .dataframe tbody tr th {\n",
       "        vertical-align: top;\n",
       "    }\n",
       "\n",
       "    .dataframe thead th {\n",
       "        text-align: right;\n",
       "    }\n",
       "</style>\n",
       "<table border=\"1\" class=\"dataframe\">\n",
       "  <thead>\n",
       "    <tr style=\"text-align: right;\">\n",
       "      <th></th>\n",
       "      <th>USER_ID</th>\n",
       "      <th>ITEM_ID</th>\n",
       "      <th>TIMESTAMP</th>\n",
       "      <th>EVENT_TYPE</th>\n",
       "    </tr>\n",
       "  </thead>\n",
       "  <tbody>\n",
       "    <tr>\n",
       "      <th>0</th>\n",
       "      <td>533326659</td>\n",
       "      <td>1005014</td>\n",
       "      <td>1667260814</td>\n",
       "      <td>cart</td>\n",
       "    </tr>\n",
       "    <tr>\n",
       "      <th>1</th>\n",
       "      <td>565865924</td>\n",
       "      <td>1005115</td>\n",
       "      <td>1667261019</td>\n",
       "      <td>cart</td>\n",
       "    </tr>\n",
       "    <tr>\n",
       "      <th>2</th>\n",
       "      <td>549256216</td>\n",
       "      <td>1002542</td>\n",
       "      <td>1667261154</td>\n",
       "      <td>cart</td>\n",
       "    </tr>\n",
       "    <tr>\n",
       "      <th>3</th>\n",
       "      <td>549256216</td>\n",
       "      <td>1002542</td>\n",
       "      <td>1667261242</td>\n",
       "      <td>cart</td>\n",
       "    </tr>\n",
       "    <tr>\n",
       "      <th>4</th>\n",
       "      <td>522355747</td>\n",
       "      <td>4804056</td>\n",
       "      <td>1667261445</td>\n",
       "      <td>cart</td>\n",
       "    </tr>\n",
       "  </tbody>\n",
       "</table>\n",
       "</div>"
      ],
      "text/plain": [
       "     USER_ID  ITEM_ID   TIMESTAMP EVENT_TYPE\n",
       "0  533326659  1005014  1667260814       cart\n",
       "1  565865924  1005115  1667261019       cart\n",
       "2  549256216  1002542  1667261154       cart\n",
       "3  549256216  1002542  1667261242       cart\n",
       "4  522355747  4804056  1667261445       cart"
      ]
     },
     "execution_count": 6,
     "metadata": {},
     "output_type": "execute_result"
    }
   ],
   "source": [
    "cleaned_insteractions = pd.read_csv('data/cleaned_user_interactions.csv')\n",
    "cleaned_insteractions.head()"
   ]
  },
  {
   "cell_type": "code",
   "execution_count": 12,
   "id": "72b847c7-9eea-4c03-b8e2-9b3d2933b64d",
   "metadata": {},
   "outputs": [
    {
     "data": {
      "text/plain": [
       "array(['cart', 'purchase'], dtype=object)"
      ]
     },
     "execution_count": 12,
     "metadata": {},
     "output_type": "execute_result"
    }
   ],
   "source": [
    "cleaned_insteractions['EVENT_TYPE'].unique()"
   ]
  },
  {
   "cell_type": "code",
   "execution_count": 10,
   "id": "26245fe4-4494-4de2-9cf0-fe884462a0ed",
   "metadata": {},
   "outputs": [
    {
     "data": {
      "text/plain": [
       "[595097773, 542168651, 515749479]"
      ]
     },
     "execution_count": 10,
     "metadata": {},
     "output_type": "execute_result"
    }
   ],
   "source": [
    "# 3 user id sampling\n",
    "users = cleaned_insteractions.sample(n=3)['USER_ID'].to_list()\n",
    "users"
   ]
  },
  {
   "cell_type": "code",
   "execution_count": null,
   "id": "77f2f5d1-a821-4acd-b886-044026c6cfa8",
   "metadata": {},
   "outputs": [],
   "source": [
    "#campaign_arn = \"\""
   ]
  },
  {
   "cell_type": "code",
   "execution_count": null,
   "id": "6cda089d-a1e9-4da4-a14c-7ca926eaecfa",
   "metadata": {},
   "outputs": [],
   "source": [
    "# get Recommendation\n",
    "get_recommendation_resp = personalize_runtime.get_recommendataions(\n",
    "    campaignArn = campaign_arn,\n",
    "    userId = str(users[0])\n",
    "item_list = get_recommendation_resp['itemList']\n",
    "print(item_list)"
   ]
  },
  {
   "cell_type": "markdown",
   "id": "ffa0b27d-d241-4a00-add3-6e3e56ba98fe",
   "metadata": {},
   "source": [
    "#### Real time events Simulation"
   ]
  },
  {
   "cell_type": "code",
   "execution_count": null,
   "id": "08cc94fe-5061-402f-83f2-99d7e1b9e66b",
   "metadata": {},
   "outputs": [],
   "source": [
    "event_tracker_name = \"Osung-Event-Tracker\"\n",
    "dataset_group_arn = \"osungmart-dataset-group20230204\""
   ]
  },
  {
   "cell_type": "code",
   "execution_count": null,
   "id": "7277a5fd-6f30-4265-96c6-c96f3f86ac19",
   "metadata": {},
   "outputs": [],
   "source": [
    "# event tracker 생성\n",
    "resp = personalize.create_event_tracker(\n",
    "    name = event_tracker_name,\n",
    "    datasetGroupArn = dataset_group_arn\n",
    ")\n",
    "print(resp['eventTrackerArn'])\n",
    "print(resp['trakingId'])\n",
    "TRACKING_ID = resp['trackingId']\n",
    "event_tracker_arn = resp['eventTrackerArn']"
   ]
  },
  {
   "cell_type": "markdown",
   "id": "11fc5eac-86da-4262-bcc9-82ae5f79031a",
   "metadata": {},
   "source": [
    "##### method for simulations"
   ]
  },
  {
   "cell_type": "code",
   "execution_count": null,
   "id": "dbbeb5a7-ac22-4098-ad4c-fd9382ee94fd",
   "metadata": {},
   "outputs": [],
   "source": [
    "session_dict = {}\n",
    "def send_event(USER_ID, ITEM_ID, EVENT_TYPE ='cart'):\n",
    "    \"\"\"\n",
    "    Simulates a click as an envent\n",
    "    to send an event to Amazon Personalize's Event Tracker\n",
    "    \"\"\"\n",
    "    # Configure Session\n",
    "    try:\n",
    "        session_ID = session_dict[str(USER_ID)]\n",
    "    except:\n",
    "        session_dict['USER_ID'] = str(uuid.uuid1())\n",
    "        session_ID = session_dict[str(USER_ID)]\n",
    "    \n",
    "    # Configure Properties\n",
    "    event = {\n",
    "        \"itemId\": str(ITEM_ID)\n",
    "    }\n",
    "    \n",
    "    event_json = json.dumps(event)\n",
    "    # Make a Call\n",
    "    personalize_events.put_events(\n",
    "        trackingId = TRACKING_ID,\n",
    "        userId = str(USER_ID),\n",
    "        sessionId = session_ID,\n",
    "        eventList = [{\n",
    "            \"sentAt\": int(time.time()),\n",
    "            \"eventType\": EVENT_TYPE,\n",
    "            \"properties\": event_json\n",
    "        }]\n",
    "    )\n",
    "            \n",
    "def get_new_recommendation_uers_real_time(user_id, item_id_list):\n",
    "    # Send event\n",
    "    for item_id in item_id_list:\n",
    "        send_event(USER_ID=user_id, ITEM_ID=item_id)\n",
    "        time.sleep(5)\n",
    "    \n",
    "    # get recommendation\n",
    "    get_recommendation_resp = personalize.get_recommendation(\n",
    "        compaignArn = compaign_arn,\n",
    "        userId = str(user_id),\n",
    "    )\n",
    "    \n",
    "    item_list = get_recommendation_resp['itemList']\n",
    "    recommendation_list = []\n",
    "    for item in item_list:\n",
    "        recommendation_list.append(item['itemId'])\n",
    "    \n",
    "    return recommendation_list\n",
    "    "
   ]
  }
 ],
 "metadata": {
  "kernelspec": {
   "display_name": "conda_tensorflow2_p310",
   "language": "python",
   "name": "conda_tensorflow2_p310"
  },
  "language_info": {
   "codemirror_mode": {
    "name": "ipython",
    "version": 3
   },
   "file_extension": ".py",
   "mimetype": "text/x-python",
   "name": "python",
   "nbconvert_exporter": "python",
   "pygments_lexer": "ipython3",
   "version": "3.10.6"
  }
 },
 "nbformat": 4,
 "nbformat_minor": 5
}
