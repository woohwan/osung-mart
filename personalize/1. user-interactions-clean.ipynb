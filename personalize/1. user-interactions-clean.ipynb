{
 "cells": [
  {
   "attachments": {},
   "cell_type": "markdown",
   "metadata": {},
   "source": [
    "#### Persionalize 구성 흐름\n",
    "user interaction 최소 조건\n",
    "- At minimum 1000 interactions records from users interacting with items in your catalog.\n",
    "- At minimum 25 unique user IDs with at least 2 interactions for each.\n",
    "\n",
    "1. 데이터 탐색\n",
    "2. 데이터 정제\n",
    "3. S3 Bucket 생성, Policy 설정,  정제 데이터 업로드\n"
   ]
  },
  {
   "cell_type": "code",
   "execution_count": 1,
   "metadata": {},
   "outputs": [],
   "source": [
    "import pandas as pd\n",
    "import datetime\n",
    "pd.set_option('display.width', 1000)"
   ]
  },
  {
   "cell_type": "code",
   "execution_count": 2,
   "metadata": {},
   "outputs": [
    {
     "name": "stderr",
     "output_type": "stream",
     "text": [
      "/var/folders/8_/shv0pqd52xb1xxjjxsp4yptm0000gp/T/ipykernel_2526/322699375.py:1: DtypeWarning: Columns (12) have mixed types. Specify dtype option on import or set low_memory=False.\n",
      "  data_df = pd.read_csv('./data/data.csv')\n"
     ]
    },
    {
     "data": {
      "text/html": [
       "<div>\n",
       "<style scoped>\n",
       "    .dataframe tbody tr th:only-of-type {\n",
       "        vertical-align: middle;\n",
       "    }\n",
       "\n",
       "    .dataframe tbody tr th {\n",
       "        vertical-align: top;\n",
       "    }\n",
       "\n",
       "    .dataframe thead th {\n",
       "        text-align: right;\n",
       "    }\n",
       "</style>\n",
       "<table border=\"1\" class=\"dataframe\">\n",
       "  <thead>\n",
       "    <tr style=\"text-align: right;\">\n",
       "      <th></th>\n",
       "      <th>Unnamed: 0</th>\n",
       "      <th>event_time</th>\n",
       "      <th>event_type</th>\n",
       "      <th>product_id</th>\n",
       "      <th>brand</th>\n",
       "      <th>price</th>\n",
       "      <th>user_id</th>\n",
       "      <th>user_session</th>\n",
       "      <th>target</th>\n",
       "      <th>cat_0</th>\n",
       "      <th>cat_1</th>\n",
       "      <th>cat_2</th>\n",
       "      <th>cat_3</th>\n",
       "    </tr>\n",
       "  </thead>\n",
       "  <tbody>\n",
       "    <tr>\n",
       "      <th>0</th>\n",
       "      <td>0</td>\n",
       "      <td>2022-11-01 00:00:14 UTC</td>\n",
       "      <td>cart</td>\n",
       "      <td>1005014</td>\n",
       "      <td>samsung</td>\n",
       "      <td>503.09</td>\n",
       "      <td>533326659</td>\n",
       "      <td>6b928be2-2bce-4640-8296-0efdf2fda22a</td>\n",
       "      <td>0</td>\n",
       "      <td>electronics</td>\n",
       "      <td>smartphone</td>\n",
       "      <td>NaN</td>\n",
       "      <td>NaN</td>\n",
       "    </tr>\n",
       "    <tr>\n",
       "      <th>1</th>\n",
       "      <td>1</td>\n",
       "      <td>2022-11-01 00:03:39 UTC</td>\n",
       "      <td>cart</td>\n",
       "      <td>1005115</td>\n",
       "      <td>apple</td>\n",
       "      <td>949.47</td>\n",
       "      <td>565865924</td>\n",
       "      <td>fd4bd6d4-bd14-4fdc-9aff-bd41a594f82e</td>\n",
       "      <td>0</td>\n",
       "      <td>electronics</td>\n",
       "      <td>smartphone</td>\n",
       "      <td>NaN</td>\n",
       "      <td>NaN</td>\n",
       "    </tr>\n",
       "    <tr>\n",
       "      <th>2</th>\n",
       "      <td>2</td>\n",
       "      <td>2022-11-01 00:05:54 UTC</td>\n",
       "      <td>cart</td>\n",
       "      <td>1002542</td>\n",
       "      <td>apple</td>\n",
       "      <td>486.80</td>\n",
       "      <td>549256216</td>\n",
       "      <td>dcbdc6e4-cd49-4ee8-95c5-e85f3c618fa1</td>\n",
       "      <td>0</td>\n",
       "      <td>electronics</td>\n",
       "      <td>smartphone</td>\n",
       "      <td>NaN</td>\n",
       "      <td>NaN</td>\n",
       "    </tr>\n",
       "    <tr>\n",
       "      <th>3</th>\n",
       "      <td>3</td>\n",
       "      <td>2022-11-01 00:07:22 UTC</td>\n",
       "      <td>cart</td>\n",
       "      <td>1002542</td>\n",
       "      <td>apple</td>\n",
       "      <td>486.80</td>\n",
       "      <td>549256216</td>\n",
       "      <td>dcbdc6e4-cd49-4ee8-95c5-e85f3c618fa1</td>\n",
       "      <td>0</td>\n",
       "      <td>electronics</td>\n",
       "      <td>smartphone</td>\n",
       "      <td>NaN</td>\n",
       "      <td>NaN</td>\n",
       "    </tr>\n",
       "    <tr>\n",
       "      <th>4</th>\n",
       "      <td>4</td>\n",
       "      <td>2022-11-01 00:10:45 UTC</td>\n",
       "      <td>cart</td>\n",
       "      <td>4804056</td>\n",
       "      <td>apple</td>\n",
       "      <td>160.57</td>\n",
       "      <td>522355747</td>\n",
       "      <td>0a1f37d1-71b7-4645-a8a7-ab91bc198a51</td>\n",
       "      <td>0</td>\n",
       "      <td>electronics</td>\n",
       "      <td>audio</td>\n",
       "      <td>headphone</td>\n",
       "      <td>NaN</td>\n",
       "    </tr>\n",
       "  </tbody>\n",
       "</table>\n",
       "</div>"
      ],
      "text/plain": [
       "   Unnamed: 0               event_time event_type  product_id    brand   price    user_id                          user_session  target        cat_0       cat_1      cat_2 cat_3\n",
       "0           0  2022-11-01 00:00:14 UTC       cart     1005014  samsung  503.09  533326659  6b928be2-2bce-4640-8296-0efdf2fda22a       0  electronics  smartphone        NaN   NaN\n",
       "1           1  2022-11-01 00:03:39 UTC       cart     1005115    apple  949.47  565865924  fd4bd6d4-bd14-4fdc-9aff-bd41a594f82e       0  electronics  smartphone        NaN   NaN\n",
       "2           2  2022-11-01 00:05:54 UTC       cart     1002542    apple  486.80  549256216  dcbdc6e4-cd49-4ee8-95c5-e85f3c618fa1       0  electronics  smartphone        NaN   NaN\n",
       "3           3  2022-11-01 00:07:22 UTC       cart     1002542    apple  486.80  549256216  dcbdc6e4-cd49-4ee8-95c5-e85f3c618fa1       0  electronics  smartphone        NaN   NaN\n",
       "4           4  2022-11-01 00:10:45 UTC       cart     4804056    apple  160.57  522355747  0a1f37d1-71b7-4645-a8a7-ab91bc198a51       0  electronics       audio  headphone   NaN"
      ]
     },
     "execution_count": 2,
     "metadata": {},
     "output_type": "execute_result"
    }
   ],
   "source": [
    "data_df = pd.read_csv('./data/data.csv')\n",
    "data_df.head()"
   ]
  },
  {
   "cell_type": "code",
   "execution_count": 3,
   "metadata": {},
   "outputs": [
    {
     "name": "stdout",
     "output_type": "stream",
     "text": [
      "(11495242, 13)\n"
     ]
    }
   ],
   "source": [
    "print(data_df.shape)"
   ]
  },
  {
   "cell_type": "code",
   "execution_count": 4,
   "metadata": {},
   "outputs": [
    {
     "name": "stdout",
     "output_type": "stream",
     "text": [
      "(11495242, 4)\n"
     ]
    },
    {
     "data": {
      "text/plain": [
       "user_id       0\n",
       "product_id    0\n",
       "event_time    0\n",
       "event_type    0\n",
       "dtype: int64"
      ]
     },
     "execution_count": 4,
     "metadata": {},
     "output_type": "execute_result"
    }
   ],
   "source": [
    "# instraction datasetd에 필수 항목 추출\n",
    "insteractions_df = data_df[['user_id', 'product_id','event_time', 'event_type']]\n",
    "# items_df = data_df[['product_id', 'price', 'brand', 'cat_0', 'cat_1', 'cat-2']]\n",
    "print(insteractions_df.shape)\n",
    "insteractions_df.isnull().sum()"
   ]
  },
  {
   "cell_type": "code",
   "execution_count": 5,
   "metadata": {},
   "outputs": [],
   "source": [
    "# dataframe 내에 colname 이 multi_cnt 이상 df 반환\n",
    "def filter_df(df, colname='user_id',  multi_cnt=2):\n",
    "    # colname user_id 인 경우  아래 조건을 맞족한는 Series의 index 가 user_id\n",
    "    is_multi = df[colname].value_counts() > 1\n",
    "    # Series boolean index를 이용\n",
    "    multi_index = is_multi[is_multi].index\n",
    "    filtered = df[df[colname].isin(multi_index)]\n",
    "    return filtered, multi_index"
   ]
  },
  {
   "cell_type": "code",
   "execution_count": 6,
   "metadata": {},
   "outputs": [
    {
     "name": "stdout",
     "output_type": "stream",
     "text": [
      "(10541336, 4)\n"
     ]
    }
   ],
   "source": [
    "#  최소 거래건수: 2개 이상\n",
    "filtered_df, user_ids_atleast_2event = filter_df(insteractions_df)\n",
    "print(filtered_df.shape)\n"
   ]
  },
  {
   "cell_type": "code",
   "execution_count": 7,
   "metadata": {},
   "outputs": [
    {
     "name": "stdout",
     "output_type": "stream",
     "text": [
      "<class 'pandas.core.frame.DataFrame'>\n",
      "Int64Index: 10541336 entries, 0 to 11495241\n",
      "Data columns (total 4 columns):\n",
      " #   Column      Dtype \n",
      "---  ------      ----- \n",
      " 0   user_id     int64 \n",
      " 1   product_id  int64 \n",
      " 2   event_time  object\n",
      " 3   event_type  object\n",
      "dtypes: int64(2), object(2)\n",
      "memory usage: 402.1+ MB\n"
     ]
    }
   ],
   "source": [
    "filtered_df.info()"
   ]
  },
  {
   "attachments": {},
   "cell_type": "markdown",
   "metadata": {},
   "source": [
    "- event_time:  object --> Unix timestamp 타입 변환 필요"
   ]
  },
  {
   "attachments": {},
   "cell_type": "markdown",
   "metadata": {},
   "source": [
    "### evnet_time type conversion: object to Unix timestamp"
   ]
  },
  {
   "cell_type": "code",
   "execution_count": 10,
   "metadata": {},
   "outputs": [],
   "source": [
    "user_interactions_df = filtered_df.copy()\n",
    "\n",
    "# 유효하지 않는  format은  NaT으로 변환 및 제거: object -> datetime\n",
    "user_interactions_df['event_time'] = pd.to_datetime(user_interactions_df['event_time'], format=\"%Y-%m-%d %H:%M:%S UTC\", errors='coerce')\n",
    "user_interactions_df = user_interactions_df[pd.notnull(user_interactions_df['event_time'])]"
   ]
  },
  {
   "cell_type": "code",
   "execution_count": 11,
   "metadata": {},
   "outputs": [
    {
     "name": "stdout",
     "output_type": "stream",
     "text": [
      "<class 'pandas.core.frame.DataFrame'>\n",
      "Int64Index: 10505424 entries, 0 to 11495241\n",
      "Data columns (total 4 columns):\n",
      " #   Column      Dtype  \n",
      "---  ------      -----  \n",
      " 0   user_id     int64  \n",
      " 1   product_id  int64  \n",
      " 2   event_time  float64\n",
      " 3   event_type  object \n",
      "dtypes: float64(1), int64(2), object(1)\n",
      "memory usage: 400.8+ MB\n"
     ]
    }
   ],
   "source": [
    "\n",
    "# event_time의 datetime을 Unix timestamp 타입으로\n",
    "user_interactions_df['event_time'] = user_interactions_df.event_time.apply(lambda x : (x-datetime.datetime(1970,1,1)).total_seconds())\n",
    "user_interactions_df.info()"
   ]
  },
  {
   "cell_type": "code",
   "execution_count": 12,
   "metadata": {},
   "outputs": [],
   "source": [
    "# convert event_time from float to int\n",
    "user_interactions_df['event_time'] = user_interactions_df['event_time'].astype(int)"
   ]
  },
  {
   "cell_type": "code",
   "execution_count": 13,
   "metadata": {},
   "outputs": [
    {
     "name": "stdout",
     "output_type": "stream",
     "text": [
      "<class 'pandas.core.frame.DataFrame'>\n",
      "Int64Index: 10505424 entries, 0 to 11495241\n",
      "Data columns (total 4 columns):\n",
      " #   Column      Dtype \n",
      "---  ------      ----- \n",
      " 0   user_id     int64 \n",
      " 1   product_id  int64 \n",
      " 2   event_time  int64 \n",
      " 3   event_type  object\n",
      "dtypes: int64(3), object(1)\n",
      "memory usage: 400.8+ MB\n"
     ]
    }
   ],
   "source": [
    "user_interactions_df.info()\n"
   ]
  },
  {
   "cell_type": "code",
   "execution_count": 14,
   "metadata": {},
   "outputs": [],
   "source": [
    "# rename columne:  Personalize를 위한 필수 항목: USER_ID, ITEM_ID, TIMESTAMP\n",
    "user_interactions_df.rename(columns={\"user_id\": \"USER_ID\", \"product_id\": \"ITEM_ID\", \"event_time\": \"TIMESTAMP\", \"event_type\": \"EVENT_TYPE\" }, inplace=True)\n"
   ]
  },
  {
   "cell_type": "code",
   "execution_count": 15,
   "metadata": {},
   "outputs": [
    {
     "data": {
      "text/plain": [
       "USER_ID       0\n",
       "ITEM_ID       0\n",
       "TIMESTAMP     0\n",
       "EVENT_TYPE    0\n",
       "dtype: int64"
      ]
     },
     "execution_count": 15,
     "metadata": {},
     "output_type": "execute_result"
    }
   ],
   "source": [
    "user_interactions_df.isnull().sum()"
   ]
  },
  {
   "cell_type": "code",
   "execution_count": 16,
   "metadata": {},
   "outputs": [],
   "source": [
    "# 정제된 데이터를 파일로 저장\n",
    "user_interactions_df.to_csv(\"./data/cleaned_user_interactions.csv\", index=False)"
   ]
  },
  {
   "attachments": {},
   "cell_type": "markdown",
   "metadata": {},
   "source": []
  }
 ],
 "metadata": {
  "kernelspec": {
   "display_name": "aws-aiml",
   "language": "python",
   "name": "python3"
  },
  "language_info": {
   "codemirror_mode": {
    "name": "ipython",
    "version": 3
   },
   "file_extension": ".py",
   "mimetype": "text/x-python",
   "name": "python",
   "nbconvert_exporter": "python",
   "pygments_lexer": "ipython3",
   "version": "3.10.8"
  },
  "orig_nbformat": 4,
  "vscode": {
   "interpreter": {
    "hash": "cafeeec1380b716c3f6fc8d6316a2453808c141749fb8c4b58980d17efcf6d5a"
   }
  }
 },
 "nbformat": 4,
 "nbformat_minor": 2
}
