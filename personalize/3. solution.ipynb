{
 "cells": [
  {
   "cell_type": "markdown",
   "metadata": {},
   "source": [
    "#### Solution 생성 및 Versioning\n",
    "솔루선 생성 및 하이퍼 파라미터 조정"
   ]
  },
  {
   "cell_type": "code",
   "execution_count": 18,
   "metadata": {},
   "outputs": [],
   "source": [
    "import boto3\n",
    "from botocore.exceptions import ClientError\n",
    "import json\n",
    "import time\n",
    "\n",
    "\n",
    "personalize = boto3.client(\"personalize\")"
   ]
  },
  {
   "cell_type": "markdown",
   "metadata": {},
   "source": [
    "#### 솔루션 생성"
   ]
  },
  {
   "cell_type": "code",
   "execution_count": 2,
   "metadata": {},
   "outputs": [],
   "source": [
    "# recipe (알고리즘) 선택\n",
    "recipe_arn = \"arn:aws:personalize:::recipe/aws-user-personalization\""
   ]
  },
  {
   "cell_type": "code",
   "execution_count": 4,
   "metadata": {},
   "outputs": [
    {
     "name": "stdout",
     "output_type": "stream",
     "text": [
      "dataset_group_arn: arn:aws:personalize:ap-northeast-2:491818659652:dataset-group/osungmart-dataset-group20230204\n"
     ]
    }
   ],
   "source": [
    "# 이미 dataset group이 생성되어 있을 때, 조회\n",
    "# dataset_group_name = \"osungmart-dataset-groupmwomk\"\n",
    "dataset_group_name = \"osungmart-dataset-group20230204\"\n",
    "\n",
    "list_dataset_group_resp = personalize.list_dataset_groups(\n",
    "  maxResults=10\n",
    ")\n",
    "\n",
    "for dataset_grp in list_dataset_group_resp['datasetGroups']:\n",
    "  if dataset_grp['name'] == dataset_group_name:\n",
    "    dataset_group_arn = dataset_grp['datasetGroupArn']\n",
    "    print(\"dataset_group_arn: {}\".format(dataset_grp['datasetGroupArn']) )"
   ]
  },
  {
   "cell_type": "code",
   "execution_count": 5,
   "metadata": {},
   "outputs": [
    {
     "name": "stdout",
     "output_type": "stream",
     "text": [
      "{\n",
      "  \"solutionArn\": \"arn:aws:personalize:ap-northeast-2:491818659652:solution/osugmart-user-personalize-solution-HPO\",\n",
      "  \"ResponseMetadata\": {\n",
      "    \"RequestId\": \"84d36286-6df1-4467-97ac-b24ccc62b139\",\n",
      "    \"HTTPStatusCode\": 200,\n",
      "    \"HTTPHeaders\": {\n",
      "      \"date\": \"Sat, 04 Feb 2023 13:02:14 GMT\",\n",
      "      \"content-type\": \"application/x-amz-json-1.1\",\n",
      "      \"content-length\": \"113\",\n",
      "      \"connection\": \"keep-alive\",\n",
      "      \"x-amzn-requestid\": \"84d36286-6df1-4467-97ac-b24ccc62b139\"\n",
      "    },\n",
      "    \"RetryAttempts\": 0\n",
      "  }\n",
      "}\n"
     ]
    }
   ],
   "source": [
    "# create solution\n",
    "solution_name = \"osugmart-user-personalize-solution-HPO\"\n",
    "try: \n",
    "  create_solution_resp = personalize.create_solution(\n",
    "    name = solution_name,\n",
    "    datasetGroupArn = dataset_group_arn,\n",
    "    recipeArn = recipe_arn,\n",
    "    performHPO=True\n",
    "  )\n",
    "  solution_arn = create_solution_resp['solutionArn']\n",
    "  print(json.dumps(create_solution_resp, indent=2))\n",
    "except ClientError as e:\n",
    "  print(e)"
   ]
  },
  {
   "cell_type": "code",
   "execution_count": 19,
   "metadata": {},
   "outputs": [],
   "source": [
    "solution_arn = \"arn:aws:personalize:ap-northeast-2:491818659652:solution/osugmart-user-personalize-solution-HPO\""
   ]
  },
  {
   "cell_type": "code",
   "execution_count": 20,
   "metadata": {},
   "outputs": [
    {
     "name": "stdout",
     "output_type": "stream",
     "text": [
      "{\n",
      "  \"solutionVersionArn\": \"arn:aws:personalize:ap-northeast-2:491818659652:solution/osugmart-user-personalize-solution-HPO/afda062c\",\n",
      "  \"ResponseMetadata\": {\n",
      "    \"RequestId\": \"d0158eee-6126-4339-9283-b46b692031e4\",\n",
      "    \"HTTPStatusCode\": 200,\n",
      "    \"HTTPHeaders\": {\n",
      "      \"date\": \"Tue, 07 Feb 2023 06:43:53 GMT\",\n",
      "      \"content-type\": \"application/x-amz-json-1.1\",\n",
      "      \"content-length\": \"129\",\n",
      "      \"connection\": \"keep-alive\",\n",
      "      \"x-amzn-requestid\": \"d0158eee-6126-4339-9283-b46b692031e4\"\n",
      "    },\n",
      "    \"RetryAttempts\": 0\n",
      "  }\n",
      "}\n"
     ]
    }
   ],
   "source": [
    "# Create Solution Version: training and retraining\n",
    "try:\n",
    "  create_solution_version_resp = personalize.create_solution_version(\n",
    "    solutionArn = solution_arn\n",
    "  )\n",
    "  solution_version_arn = create_solution_version_resp['solutionVersionArn']\n",
    "  print(json.dumps(create_solution_version_resp, indent=2))\n",
    "except ClientError as e:\n",
    "  print(e)\n"
   ]
  },
  {
   "cell_type": "code",
   "execution_count": 7,
   "metadata": {},
   "outputs": [
    {
     "name": "stdout",
     "output_type": "stream",
     "text": [
      "SolutionVersion: CREATE IN_PROGRESS\n",
      "SolutionVersion: CREATE IN_PROGRESS\n",
      "SolutionVersion: CREATE IN_PROGRESS\n",
      "SolutionVersion: CREATE IN_PROGRESS\n",
      "SolutionVersion: CREATE IN_PROGRESS\n",
      "SolutionVersion: CREATE IN_PROGRESS\n",
      "SolutionVersion: CREATE IN_PROGRESS\n",
      "SolutionVersion: CREATE IN_PROGRESS\n",
      "SolutionVersion: CREATE IN_PROGRESS\n",
      "SolutionVersion: CREATE IN_PROGRESS\n",
      "SolutionVersion: CREATE IN_PROGRESS\n",
      "SolutionVersion: CREATE IN_PROGRESS\n",
      "SolutionVersion: CREATE IN_PROGRESS\n",
      "SolutionVersion: CREATE IN_PROGRESS\n",
      "SolutionVersion: CREATE IN_PROGRESS\n",
      "SolutionVersion: CREATE IN_PROGRESS\n",
      "SolutionVersion: CREATE IN_PROGRESS\n"
     ]
    },
    {
     "ename": "KeyboardInterrupt",
     "evalue": "",
     "output_type": "error",
     "traceback": [
      "\u001b[0;31m---------------------------------------------------------------------------\u001b[0m",
      "\u001b[0;31mKeyboardInterrupt\u001b[0m                         Traceback (most recent call last)",
      "\u001b[0;32m/tmp/ipykernel_4946/199273743.py\u001b[0m in \u001b[0;36m<cell line: 3>\u001b[0;34m()\u001b[0m\n\u001b[1;32m     11\u001b[0m         \u001b[0;32mbreak\u001b[0m\u001b[0;34m\u001b[0m\u001b[0;34m\u001b[0m\u001b[0m\n\u001b[1;32m     12\u001b[0m \u001b[0;34m\u001b[0m\u001b[0m\n\u001b[0;32m---> 13\u001b[0;31m     \u001b[0mtime\u001b[0m\u001b[0;34m.\u001b[0m\u001b[0msleep\u001b[0m\u001b[0;34m(\u001b[0m\u001b[0;36m60\u001b[0m\u001b[0;34m)\u001b[0m\u001b[0;34m\u001b[0m\u001b[0;34m\u001b[0m\u001b[0m\n\u001b[0m",
      "\u001b[0;31mKeyboardInterrupt\u001b[0m: "
     ]
    }
   ],
   "source": [
    "status = None\n",
    "max_time = time.time() + 3*60*60 # 3 hours\n",
    "while time.time() < max_time:\n",
    "    describe_solution_version_response = personalize.describe_solution_version(\n",
    "        solutionVersionArn = solution_version_arn\n",
    "    )\n",
    "    status = describe_solution_version_response[\"solutionVersion\"][\"status\"]\n",
    "    print(\"SolutionVersion: {}\".format(status))\n",
    "    \n",
    "    if status == \"ACTIVE\" or status == \"CREATE FAILED\":\n",
    "        break\n",
    "        \n",
    "    time.sleep(60)"
   ]
  },
  {
   "cell_type": "markdown",
   "metadata": {},
   "source": [
    "#### 성능 평가\n",
    "AWS User Personalization metrics"
   ]
  },
  {
   "cell_type": "code",
   "execution_count": 10,
   "metadata": {},
   "outputs": [],
   "source": [
    "personalize_runtime = boto3.client('personalize-runtime')\n",
    "personalize_events = boto3.client(\"personalize-events\")"
   ]
  },
  {
   "cell_type": "code",
   "execution_count": 13,
   "metadata": {},
   "outputs": [],
   "source": [
    "solution_version_arn = \"arn:aws:personalize:ap-northeast-2:491818659652:solution/osugmart-user-personalize-solution-HPO/c80bae27\""
   ]
  },
  {
   "cell_type": "code",
   "execution_count": 17,
   "metadata": {},
   "outputs": [
    {
     "name": "stdout",
     "output_type": "stream",
     "text": [
      "{\n",
      "  \"solutionVersionArn\": \"arn:aws:personalize:ap-northeast-2:491818659652:solution/osugmart-user-personalize-solution-HPO/c80bae27\",\n",
      "  \"metrics\": {\n",
      "    \"coverage\": 0.0014,\n",
      "    \"mean_reciprocal_rank_at_25\": 0.084,\n",
      "    \"normalized_discounted_cumulative_gain_at_10\": 0.1086,\n",
      "    \"normalized_discounted_cumulative_gain_at_25\": 0.1262,\n",
      "    \"normalized_discounted_cumulative_gain_at_5\": 0.0974,\n",
      "    \"precision_at_10\": 0.0152,\n",
      "    \"precision_at_25\": 0.0089,\n",
      "    \"precision_at_5\": 0.024\n",
      "  },\n",
      "  \"ResponseMetadata\": {\n",
      "    \"RequestId\": \"9ef784c0-0933-457f-9ef3-e630965fa790\",\n",
      "    \"HTTPStatusCode\": 200,\n",
      "    \"HTTPHeaders\": {\n",
      "      \"date\": \"Tue, 07 Feb 2023 06:29:06 GMT\",\n",
      "      \"content-type\": \"application/x-amz-json-1.1\",\n",
      "      \"content-length\": \"425\",\n",
      "      \"connection\": \"keep-alive\",\n",
      "      \"x-amzn-requestid\": \"9ef784c0-0933-457f-9ef3-e630965fa790\"\n",
      "    },\n",
      "    \"RetryAttempts\": 0\n",
      "  }\n",
      "}\n"
     ]
    }
   ],
   "source": [
    "get_solution_metrics_response = personalize.get_solution_metrics(\n",
    "    solutionVersionArn = solution_version_arn\n",
    ")\n",
    "print(json.dumps(get_solution_metrics_response, indent=2))"
   ]
  },
  {
   "cell_type": "code",
   "execution_count": null,
   "metadata": {},
   "outputs": [],
   "source": []
  },
  {
   "cell_type": "code",
   "execution_count": null,
   "metadata": {},
   "outputs": [],
   "source": []
  }
 ],
 "metadata": {
  "kernelspec": {
   "display_name": "conda_tensorflow2_p310",
   "language": "python",
   "name": "conda_tensorflow2_p310"
  },
  "language_info": {
   "codemirror_mode": {
    "name": "ipython",
    "version": 3
   },
   "file_extension": ".py",
   "mimetype": "text/x-python",
   "name": "python",
   "nbconvert_exporter": "python",
   "pygments_lexer": "ipython3",
   "version": "3.10.6"
  },
  "vscode": {
   "interpreter": {
    "hash": "2f1b3fcb20ec9c63a72a90240cd0ecd228c2ecf5259b8c8b407d7315226f675b"
   }
  }
 },
 "nbformat": 4,
 "nbformat_minor": 4
}
