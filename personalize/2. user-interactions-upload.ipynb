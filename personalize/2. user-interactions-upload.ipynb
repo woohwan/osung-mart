{
 "cells": [
  {
   "attachments": {},
   "cell_type": "markdown",
   "metadata": {},
   "source": [
    "#### S3 Upload\n",
    "- 정제되 파일 읽기 및 확인\n",
    "- Personalize가 사용할 S3 Bucket 생성, Policy 적용\n",
    "- record가 너무 많으며, 학습속도에 문제가 있으므로 10 만 건으로 샘플링. 단. event_cnt가 최소 3개 되도록 설정 (성능을 위해서)\n",
    "- 샘플 데이터에서 evnet_cnt drop 후 s3에 uplaod"
   ]
  },
  {
   "cell_type": "code",
   "execution_count": 1,
   "metadata": {},
   "outputs": [],
   "source": [
    "import pandas as pd\n",
    "import datetime\n",
    "import numpy as np\n",
    "pd.set_option('display.width', 1000)"
   ]
  },
  {
   "cell_type": "code",
   "execution_count": 2,
   "metadata": {},
   "outputs": [
    {
     "name": "stdout",
     "output_type": "stream",
     "text": [
      "(5493809, 10)\n"
     ]
    },
    {
     "data": {
      "text/html": [
       "<div>\n",
       "<style scoped>\n",
       "    .dataframe tbody tr th:only-of-type {\n",
       "        vertical-align: middle;\n",
       "    }\n",
       "\n",
       "    .dataframe tbody tr th {\n",
       "        vertical-align: top;\n",
       "    }\n",
       "\n",
       "    .dataframe thead th {\n",
       "        text-align: right;\n",
       "    }\n",
       "</style>\n",
       "<table border=\"1\" class=\"dataframe\">\n",
       "  <thead>\n",
       "    <tr style=\"text-align: right;\">\n",
       "      <th></th>\n",
       "      <th>USER_ID</th>\n",
       "      <th>ITEM_ID</th>\n",
       "      <th>TIMESTAMP</th>\n",
       "      <th>EVENT_TYPE</th>\n",
       "      <th>PRICE</th>\n",
       "      <th>BRAND</th>\n",
       "      <th>CAT_0</th>\n",
       "      <th>CAT_1</th>\n",
       "      <th>CAT_2</th>\n",
       "      <th>EVENT_CNT</th>\n",
       "    </tr>\n",
       "  </thead>\n",
       "  <tbody>\n",
       "    <tr>\n",
       "      <th>0</th>\n",
       "      <td>533326659</td>\n",
       "      <td>17300764</td>\n",
       "      <td>1.671161e+09</td>\n",
       "      <td>cart</td>\n",
       "      <td>0.017464</td>\n",
       "      <td>lanvin</td>\n",
       "      <td>apparel</td>\n",
       "      <td>shoes</td>\n",
       "      <td>sandals</td>\n",
       "      <td>10</td>\n",
       "    </tr>\n",
       "    <tr>\n",
       "      <th>1</th>\n",
       "      <td>533326659</td>\n",
       "      <td>17300814</td>\n",
       "      <td>1.671986e+09</td>\n",
       "      <td>cart</td>\n",
       "      <td>0.009719</td>\n",
       "      <td>lacoste</td>\n",
       "      <td>apparel</td>\n",
       "      <td>shoes</td>\n",
       "      <td>sandals</td>\n",
       "      <td>10</td>\n",
       "    </tr>\n",
       "    <tr>\n",
       "      <th>2</th>\n",
       "      <td>522355747</td>\n",
       "      <td>4804056</td>\n",
       "      <td>1.667261e+09</td>\n",
       "      <td>cart</td>\n",
       "      <td>0.062099</td>\n",
       "      <td>apple</td>\n",
       "      <td>electronics</td>\n",
       "      <td>audio</td>\n",
       "      <td>headphone</td>\n",
       "      <td>8</td>\n",
       "    </tr>\n",
       "    <tr>\n",
       "      <th>3</th>\n",
       "      <td>522355747</td>\n",
       "      <td>100086235</td>\n",
       "      <td>1.676053e+09</td>\n",
       "      <td>cart</td>\n",
       "      <td>0.044348</td>\n",
       "      <td>samsung</td>\n",
       "      <td>construction</td>\n",
       "      <td>tools</td>\n",
       "      <td>light</td>\n",
       "      <td>8</td>\n",
       "    </tr>\n",
       "    <tr>\n",
       "      <th>4</th>\n",
       "      <td>522355747</td>\n",
       "      <td>100086203</td>\n",
       "      <td>1.676053e+09</td>\n",
       "      <td>cart</td>\n",
       "      <td>0.044348</td>\n",
       "      <td>samsung</td>\n",
       "      <td>construction</td>\n",
       "      <td>tools</td>\n",
       "      <td>light</td>\n",
       "      <td>8</td>\n",
       "    </tr>\n",
       "  </tbody>\n",
       "</table>\n",
       "</div>"
      ],
      "text/plain": [
       "     USER_ID    ITEM_ID     TIMESTAMP EVENT_TYPE     PRICE    BRAND         CAT_0  CAT_1      CAT_2  EVENT_CNT\n",
       "0  533326659   17300764  1.671161e+09       cart  0.017464   lanvin       apparel  shoes    sandals         10\n",
       "1  533326659   17300814  1.671986e+09       cart  0.009719  lacoste       apparel  shoes    sandals         10\n",
       "2  522355747    4804056  1.667261e+09       cart  0.062099    apple   electronics  audio  headphone          8\n",
       "3  522355747  100086235  1.676053e+09       cart  0.044348  samsung  construction  tools      light          8\n",
       "4  522355747  100086203  1.676053e+09       cart  0.044348  samsung  construction  tools      light          8"
      ]
     },
     "execution_count": 2,
     "metadata": {},
     "output_type": "execute_result"
    }
   ],
   "source": [
    "interactions = pd.read_csv('./data/cleaned_user_interactions.csv')\n",
    "print(interactions.shape)\n",
    "interactions.head()"
   ]
  },
  {
   "cell_type": "code",
   "execution_count": 3,
   "metadata": {},
   "outputs": [
    {
     "name": "stdout",
     "output_type": "stream",
     "text": [
      "sample record count before :  136743\n",
      "sample length: 100000\n"
     ]
    }
   ],
   "source": [
    "insteractins_sample = interactions.sample(n=150000).query('EVENT_CNT >=3')\n",
    "# insteractins_sample['EVENT_CNT'].value_counts())\n",
    "\n",
    "record_cnt = insteractins_sample.shape[0]\n",
    "print(\"sample record count before : \", record_cnt)\n",
    "if record_cnt >=100000:\n",
    "  insteractins_sample = insteractins_sample.iloc[:100000, :]\n",
    "else:\n",
    "  print(\"need resampling\")\n",
    "\n",
    "print(\"sample length: {}\".format(len(insteractins_sample)))"
   ]
  },
  {
   "cell_type": "code",
   "execution_count": 4,
   "metadata": {},
   "outputs": [
    {
     "data": {
      "text/plain": [
       "USER_ID       0\n",
       "ITEM_ID       0\n",
       "TIMESTAMP     0\n",
       "EVENT_TYPE    0\n",
       "PRICE         0\n",
       "BRAND         0\n",
       "CAT_0         0\n",
       "CAT_1         0\n",
       "CAT_2         0\n",
       "EVENT_CNT     0\n",
       "dtype: int64"
      ]
     },
     "execution_count": 4,
     "metadata": {},
     "output_type": "execute_result"
    }
   ],
   "source": [
    "insteractins_sample.isnull().sum()"
   ]
  },
  {
   "cell_type": "code",
   "execution_count": 5,
   "metadata": {},
   "outputs": [
    {
     "data": {
      "text/html": [
       "<div>\n",
       "<style scoped>\n",
       "    .dataframe tbody tr th:only-of-type {\n",
       "        vertical-align: middle;\n",
       "    }\n",
       "\n",
       "    .dataframe tbody tr th {\n",
       "        vertical-align: top;\n",
       "    }\n",
       "\n",
       "    .dataframe thead th {\n",
       "        text-align: right;\n",
       "    }\n",
       "</style>\n",
       "<table border=\"1\" class=\"dataframe\">\n",
       "  <thead>\n",
       "    <tr style=\"text-align: right;\">\n",
       "      <th></th>\n",
       "      <th>USER_ID</th>\n",
       "      <th>ITEM_ID</th>\n",
       "      <th>TIMESTAMP</th>\n",
       "      <th>EVENT_TYPE</th>\n",
       "      <th>PRICE</th>\n",
       "      <th>BRAND</th>\n",
       "      <th>CAT_0</th>\n",
       "      <th>CAT_1</th>\n",
       "      <th>CAT_2</th>\n",
       "    </tr>\n",
       "  </thead>\n",
       "  <tbody>\n",
       "    <tr>\n",
       "      <th>817529</th>\n",
       "      <td>513748663</td>\n",
       "      <td>3701284</td>\n",
       "      <td>1.670520e+09</td>\n",
       "      <td>cart</td>\n",
       "      <td>0.009692</td>\n",
       "      <td>elenberg</td>\n",
       "      <td>appliances</td>\n",
       "      <td>environment</td>\n",
       "      <td>vacuum</td>\n",
       "    </tr>\n",
       "    <tr>\n",
       "      <th>1707441</th>\n",
       "      <td>550455144</td>\n",
       "      <td>17300822</td>\n",
       "      <td>1.671534e+09</td>\n",
       "      <td>purchase</td>\n",
       "      <td>0.017584</td>\n",
       "      <td>gucci</td>\n",
       "      <td>apparel</td>\n",
       "      <td>shoes</td>\n",
       "      <td>sandals</td>\n",
       "    </tr>\n",
       "    <tr>\n",
       "      <th>820181</th>\n",
       "      <td>512626294</td>\n",
       "      <td>1004250</td>\n",
       "      <td>1.672385e+09</td>\n",
       "      <td>cart</td>\n",
       "      <td>0.318797</td>\n",
       "      <td>apple</td>\n",
       "      <td>construction</td>\n",
       "      <td>tools</td>\n",
       "      <td>light</td>\n",
       "    </tr>\n",
       "    <tr>\n",
       "      <th>3683276</th>\n",
       "      <td>551200527</td>\n",
       "      <td>1004250</td>\n",
       "      <td>1.673273e+09</td>\n",
       "      <td>purchase</td>\n",
       "      <td>0.314779</td>\n",
       "      <td>apple</td>\n",
       "      <td>construction</td>\n",
       "      <td>tools</td>\n",
       "      <td>light</td>\n",
       "    </tr>\n",
       "    <tr>\n",
       "      <th>2266268</th>\n",
       "      <td>547738636</td>\n",
       "      <td>1004767</td>\n",
       "      <td>1.675048e+09</td>\n",
       "      <td>purchase</td>\n",
       "      <td>0.087440</td>\n",
       "      <td>samsung</td>\n",
       "      <td>construction</td>\n",
       "      <td>tools</td>\n",
       "      <td>light</td>\n",
       "    </tr>\n",
       "  </tbody>\n",
       "</table>\n",
       "</div>"
      ],
      "text/plain": [
       "           USER_ID   ITEM_ID     TIMESTAMP EVENT_TYPE     PRICE     BRAND         CAT_0        CAT_1    CAT_2\n",
       "817529   513748663   3701284  1.670520e+09       cart  0.009692  elenberg    appliances  environment   vacuum\n",
       "1707441  550455144  17300822  1.671534e+09   purchase  0.017584     gucci       apparel        shoes  sandals\n",
       "820181   512626294   1004250  1.672385e+09       cart  0.318797     apple  construction        tools    light\n",
       "3683276  551200527   1004250  1.673273e+09   purchase  0.314779     apple  construction        tools    light\n",
       "2266268  547738636   1004767  1.675048e+09   purchase  0.087440   samsung  construction        tools    light"
      ]
     },
     "execution_count": 5,
     "metadata": {},
     "output_type": "execute_result"
    }
   ],
   "source": [
    "# 추천에 필요없는 EVENT_CNT column drop\n",
    "insteractins_sample.drop(columns=['EVENT_CNT'], inplace=True)\n",
    "insteractins_sample.head()"
   ]
  },
  {
   "cell_type": "code",
   "execution_count": 6,
   "metadata": {},
   "outputs": [
    {
     "data": {
      "text/plain": [
       "0"
      ]
     },
     "execution_count": 6,
     "metadata": {},
     "output_type": "execute_result"
    }
   ],
   "source": [
    "insteractins_sample['TIMESTAMP'].isnull().sum()"
   ]
  },
  {
   "cell_type": "code",
   "execution_count": 24,
   "metadata": {},
   "outputs": [],
   "source": [
    "#  칼럼 타입 변환\n",
    "insteractins_sample = insteractins_sample.astype({'USER_ID': 'string', \"ITEM_ID\": \"string\", \"TIMESTAMP\": \"long\"})"
   ]
  },
  {
   "cell_type": "code",
   "execution_count": 25,
   "metadata": {},
   "outputs": [],
   "source": [
    "# insteractions sampling data을 파일로 저장\n",
    "insteractins_sample.to_csv('./data/interactions-sample.csv', index=False)"
   ]
  },
  {
   "cell_type": "code",
   "execution_count": 27,
   "metadata": {},
   "outputs": [
    {
     "name": "stdout",
     "output_type": "stream",
     "text": [
      "<class 'pandas.core.frame.DataFrame'>\n",
      "RangeIndex: 100000 entries, 0 to 99999\n",
      "Data columns (total 9 columns):\n",
      " #   Column      Non-Null Count   Dtype  \n",
      "---  ------      --------------   -----  \n",
      " 0   USER_ID     100000 non-null  string \n",
      " 1   ITEM_ID     100000 non-null  string \n",
      " 2   TIMESTAMP   100000 non-null  int64  \n",
      " 3   EVENT_TYPE  100000 non-null  object \n",
      " 4   PRICE       100000 non-null  float64\n",
      " 5   BRAND       100000 non-null  object \n",
      " 6   CAT_0       100000 non-null  object \n",
      " 7   CAT_1       100000 non-null  object \n",
      " 8   CAT_2       100000 non-null  object \n",
      "dtypes: float64(1), int64(1), object(5), string(2)\n",
      "memory usage: 6.9+ MB\n"
     ]
    }
   ],
   "source": [
    "# read sampled interactions file\n",
    "sampled_intreactions = pd.read_csv('./data/interactions-sample.csv')\n",
    "#  칼럼 타입 변환\n",
    "sampled_intreactions = sampled_intreactions.astype({'USER_ID': 'string', \"ITEM_ID\": \"string\", \"TIMESTAMP\": \"long\"})\n",
    "sampled_intreactions.info()"
   ]
  },
  {
   "attachments": {},
   "cell_type": "markdown",
   "metadata": {},
   "source": [
    "#### Create Bucket and policy"
   ]
  },
  {
   "cell_type": "code",
   "execution_count": 9,
   "metadata": {},
   "outputs": [],
   "source": [
    "import boto3\n",
    "from botocore.exceptions import ClientError\n",
    "import numpy as np\n",
    "import string\n",
    "import random\n",
    "import json\n",
    "import time"
   ]
  },
  {
   "attachments": {},
   "cell_type": "markdown",
   "metadata": {},
   "source": [
    "#### Configure S3 bucket and an IAM Role"
   ]
  },
  {
   "cell_type": "code",
   "execution_count": 11,
   "metadata": {},
   "outputs": [
    {
     "name": "stdout",
     "output_type": "stream",
     "text": [
      "Buket osungmart-personalize-mwomk alread exist\n"
     ]
    }
   ],
   "source": [
    "random.seed(2023)\n",
    "suffix = ''.join(random.choice(string.ascii_lowercase) for i in range(5))\n",
    "# bucket  생성\n",
    "bucket_name = \"osungmart-personalize-\" + suffix\n",
    "region = 'ap-northeast-2'\n",
    "# print(bucket_name)\n",
    "s3 = boto3.client(\"s3\")\n",
    "try:\n",
    "  create_bucket_resp = s3.create_bucket(\n",
    "    Bucket = bucket_name,\n",
    "    CreateBucketConfiguration = {\n",
    "      'LocationConstraint' : region\n",
    "    },\n",
    "  )\n",
    "except ClientError as err:\n",
    "  if err.response['Error']['Code'] == 'BucketAlreadyOwnedByYou':\n",
    "    print(f\"Buket {bucket_name} alread exist\")\n",
    "  else:\n",
    "    raise"
   ]
  },
  {
   "attachments": {},
   "cell_type": "markdown",
   "metadata": {},
   "source": [
    "Upload data to S3"
   ]
  },
  {
   "cell_type": "code",
   "execution_count": 12,
   "metadata": {},
   "outputs": [],
   "source": [
    "data_dir = 'data'\n",
    "interactions_filename = data_dir + '/interactions-sample.csv'\n",
    "try: \n",
    "  boto3.Session().resource('s3').Bucket(bucket_name).Object(interactions_filename).upload_file(interactions_filename)\n",
    "except ClientError as e:\n",
    "  print(e)"
   ]
  },
  {
   "cell_type": "markdown",
   "metadata": {},
   "source": [
    "#### Dataset Group and Dataset"
   ]
  },
  {
   "cell_type": "code",
   "execution_count": 13,
   "metadata": {},
   "outputs": [],
   "source": [
    "personalize = boto3.client('personalize')"
   ]
  },
  {
   "cell_type": "code",
   "execution_count": 14,
   "metadata": {},
   "outputs": [
    {
     "name": "stdout",
     "output_type": "stream",
     "text": [
      "{\n",
      "  \"datasetGroupArn\": \"arn:aws:personalize:ap-northeast-2:532805286864:dataset-group/osungmart-dataset-groupmwomk\",\n",
      "  \"ResponseMetadata\": {\n",
      "    \"RequestId\": \"3fb997fe-e4ad-47f3-a983-b5498ba1d65c\",\n",
      "    \"HTTPStatusCode\": 200,\n",
      "    \"HTTPHeaders\": {\n",
      "      \"date\": \"Thu, 02 Feb 2023 08:44:08 GMT\",\n",
      "      \"content-type\": \"application/x-amz-json-1.1\",\n",
      "      \"content-length\": \"112\",\n",
      "      \"connection\": \"keep-alive\",\n",
      "      \"x-amzn-requestid\": \"3fb997fe-e4ad-47f3-a983-b5498ba1d65c\"\n",
      "    },\n",
      "    \"RetryAttempts\": 0\n",
      "  }\n",
      "}\n"
     ]
    }
   ],
   "source": [
    "# Create Dataset Group\n",
    "dataset_group_name = \"osungmart-dataset-group\" + suffix\n",
    "\n",
    "create_dataset_group_resp = personalize.create_dataset_group(\n",
    "  name = dataset_group_name\n",
    ")\n",
    "\n",
    "dataset_group_arn = create_dataset_group_resp['datasetGroupArn']\n",
    "print(json.dumps(create_dataset_group_resp, indent=2))"
   ]
  },
  {
   "cell_type": "code",
   "execution_count": 15,
   "metadata": {},
   "outputs": [
    {
     "name": "stdout",
     "output_type": "stream",
     "text": [
      "DatasetGroup: CREATE PENDING\n",
      "DatasetGroup: ACTIVE\n"
     ]
    }
   ],
   "source": [
    "# dataset group 생성 모니터링\n",
    "status = None\n",
    "max_time = time.time()* 3*60*60 # 3h\n",
    "while time.time() < max_time:\n",
    "  describe_dataset_group_resp = personalize.describe_dataset_group(\n",
    "    datasetGroupArn = dataset_group_arn\n",
    "  )\n",
    "  status = describe_dataset_group_resp['datasetGroup']['status']\n",
    "  print(\"DatasetGroup: {}\".format(status))\n",
    "\n",
    "  if status == \"ACTIVE\" or status == 'CREATE FAILED':\n",
    "    break\n",
    "\n",
    "  time.sleep(10)"
   ]
  },
  {
   "attachments": {},
   "cell_type": "markdown",
   "metadata": {},
   "source": [
    "#### dataset 생성\n",
    "interactions dataset"
   ]
  },
  {
   "cell_type": "code",
   "execution_count": 16,
   "metadata": {},
   "outputs": [],
   "source": [
    "schema_name = \"osungmart-interactions-schema\""
   ]
  },
  {
   "cell_type": "code",
   "execution_count": 28,
   "metadata": {},
   "outputs": [
    {
     "data": {
      "text/plain": [
       "{'ResponseMetadata': {'RequestId': '888198d6-a6de-4a83-85d4-f98de391122e',\n",
       "  'HTTPStatusCode': 200,\n",
       "  'HTTPHeaders': {'date': 'Thu, 02 Feb 2023 07:59:30 GMT',\n",
       "   'content-type': 'application/x-amz-json-1.1',\n",
       "   'content-length': '0',\n",
       "   'connection': 'keep-alive',\n",
       "   'x-amzn-requestid': '888198d6-a6de-4a83-85d4-f98de391122e'},\n",
       "  'RetryAttempts': 0}}"
      ]
     },
     "execution_count": 28,
     "metadata": {},
     "output_type": "execute_result"
    }
   ],
   "source": [
    "# delete schema\n",
    "# personalize.delete_schema(\n",
    "#   schemaArn = \"arn:aws:personalize:ap-northeast-2:532805286864:schema/osungmart-interactions-schema\"\n",
    "# )"
   ]
  },
  {
   "cell_type": "code",
   "execution_count": 17,
   "metadata": {},
   "outputs": [
    {
     "name": "stdout",
     "output_type": "stream",
     "text": [
      "{\n",
      "  \"schemaArn\": \"arn:aws:personalize:ap-northeast-2:532805286864:schema/osungmart-interactions-schema\",\n",
      "  \"ResponseMetadata\": {\n",
      "    \"RequestId\": \"d85717da-d601-48f1-bfef-a300789e2e21\",\n",
      "    \"HTTPStatusCode\": 200,\n",
      "    \"HTTPHeaders\": {\n",
      "      \"date\": \"Thu, 02 Feb 2023 08:44:53 GMT\",\n",
      "      \"content-type\": \"application/x-amz-json-1.1\",\n",
      "      \"content-length\": \"100\",\n",
      "      \"connection\": \"keep-alive\",\n",
      "      \"x-amzn-requestid\": \"d85717da-d601-48f1-bfef-a300789e2e21\"\n",
      "    },\n",
      "    \"RetryAttempts\": 0\n",
      "  }\n",
      "}\n"
     ]
    }
   ],
   "source": [
    "# schema 생성\n",
    "# USER_ID,ITEM_ID,TIMESTAMP,EVENT_TYPE,PRICE,BRAND,CAT_0,CAT_1,CAT_2\n",
    "\n",
    "\n",
    "schema = {\n",
    "  \"type\": \"record\",\n",
    "  \"name\": \"Interactions\",\n",
    "  \"namespace\": \"com.amazonaws.personalize.schema\",\n",
    "  \"fields\": [\n",
    "    {\n",
    "      \"name\": \"ITEM_ID\",\n",
    "      \"type\": \"string\"\n",
    "    },\n",
    "    {\n",
    "      \"name\": \"USER_ID\",\n",
    "      \"type\": \"string\"\n",
    "    },\n",
    "    {\n",
    "      \"name\": \"TIMESTAMP\",\n",
    "      \"type\": \"long\"\n",
    "    },\n",
    "    {\n",
    "      \"name\": \"EVENT_TYPE\",\n",
    "      \"type\": \"string\"\n",
    "    },\n",
    "    {\n",
    "      \"name\": \"PRICE\",\n",
    "      \"type\": \"float\"\n",
    "    },\n",
    "    {\n",
    "      \"name\":\"BRAND\",\n",
    "      \"type\": \"string\",\n",
    "      \"categorical\": True\n",
    "    },\n",
    "    {\n",
    "      \"name\": \"CAT_0\",\n",
    "      \"type\": \"string\",\n",
    "      \"categorical\": True\n",
    "    },\n",
    "    {\n",
    "      \"name\": \"CAT_1\",\n",
    "      \"type\": \"string\",\n",
    "      \"categorical\": True\n",
    "    },\n",
    "    {\n",
    "      \"name\": \"CAT_2\",\n",
    "      \"type\": \"string\",\n",
    "      \"categorical\": True\n",
    "    },\n",
    "  ]\n",
    "}\n",
    "\n",
    "create_schema_resp = personalize.create_schema(\n",
    "  name = schema_name,\n",
    "  schema = json.dumps(schema)\n",
    ")\n",
    "\n",
    "schema_arn = create_schema_resp['schemaArn']\n",
    "print(json.dumps(create_schema_resp, indent=2))"
   ]
  },
  {
   "cell_type": "code",
   "execution_count": 18,
   "metadata": {},
   "outputs": [
    {
     "name": "stdout",
     "output_type": "stream",
     "text": [
      "{\n",
      "  \"datasetArn\": \"arn:aws:personalize:ap-northeast-2:532805286864:dataset/osungmart-dataset-groupmwomk/INTERACTIONS\",\n",
      "  \"ResponseMetadata\": {\n",
      "    \"RequestId\": \"6b5037bd-589a-4410-880f-cde71dc3ebab\",\n",
      "    \"HTTPStatusCode\": 200,\n",
      "    \"HTTPHeaders\": {\n",
      "      \"date\": \"Thu, 02 Feb 2023 08:44:56 GMT\",\n",
      "      \"content-type\": \"application/x-amz-json-1.1\",\n",
      "      \"content-length\": \"114\",\n",
      "      \"connection\": \"keep-alive\",\n",
      "      \"x-amzn-requestid\": \"6b5037bd-589a-4410-880f-cde71dc3ebab\"\n",
      "    },\n",
      "    \"RetryAttempts\": 0\n",
      "  }\n",
      "}\n"
     ]
    }
   ],
   "source": [
    "# create dataset\n",
    "dataset_type = \"INTERACTIONS\"\n",
    "create_dataset_resp = personalize.create_dataset(\n",
    "  datasetType = dataset_type,\n",
    "  datasetGroupArn = dataset_group_arn,\n",
    "  schemaArn = schema_arn,\n",
    "  name = \"osugnmart-dataset-interactions\"\n",
    ")\n",
    "\n",
    "interactions_dataset_arn = create_dataset_resp['datasetArn']\n",
    "print(json.dumps(create_dataset_resp, indent=2))\n"
   ]
  },
  {
   "attachments": {},
   "cell_type": "markdown",
   "metadata": {},
   "source": [
    "#### S3 Bucket policy 설정\n",
    "peronalize service가 s3 bucket에 접근할 수 있도록 bucket permission 설정"
   ]
  },
  {
   "cell_type": "code",
   "execution_count": 37,
   "metadata": {},
   "outputs": [
    {
     "data": {
      "text/plain": [
       "{'ResponseMetadata': {'RequestId': 'Z32PVWR5FQ6HM9N0',\n",
       "  'HostId': 'yG/6ZWtvbnSBUFhONIi8quRAURWz2hSqqs9US4j3XO3dM9KAUyuzpdmHPurcM09z4fsoy07F+t4=',\n",
       "  'HTTPStatusCode': 204,\n",
       "  'HTTPHeaders': {'x-amz-id-2': 'yG/6ZWtvbnSBUFhONIi8quRAURWz2hSqqs9US4j3XO3dM9KAUyuzpdmHPurcM09z4fsoy07F+t4=',\n",
       "   'x-amz-request-id': 'Z32PVWR5FQ6HM9N0',\n",
       "   'date': 'Thu, 02 Feb 2023 04:46:26 GMT',\n",
       "   'server': 'AmazonS3'},\n",
       "  'RetryAttempts': 0}}"
      ]
     },
     "execution_count": 37,
     "metadata": {},
     "output_type": "execute_result"
    }
   ],
   "source": [
    "policy = {\n",
    "    \"Version\": \"2012-10-17\",\n",
    "    \"Id\": \"PersonalizeS3BucketAccessPolicy\",\n",
    "    \"Statement\": [\n",
    "        {\n",
    "            \"Sid\": \"PersonalizeS3BucketAccessPolicy\",\n",
    "            \"Effect\": \"Allow\",\n",
    "            \"Principal\": {\n",
    "                \"Service\": \"personalize.amazonaws.com\",\n",
    "            },\n",
    "            \"Action\": [\n",
    "                \"s3:GetObject\",\n",
    "                \"s3:ListBucket\"\n",
    "            ],\n",
    "            \"Resource\": [\n",
    "                \"arn:aws:s3:::{}\".format(bucket_name),\n",
    "                \"arn:aws:s3:::{}/*\".format(bucket_name)\n",
    "            ]\n",
    "        }\n",
    "    ]\n",
    "}\n",
    "\n",
    "s3.put_bucket_policy(Bucket=bucket_name, Policy=json.dumps(policy))"
   ]
  },
  {
   "attachments": {},
   "cell_type": "markdown",
   "metadata": {},
   "source": [
    "#### IAM Role 생성"
   ]
  },
  {
   "cell_type": "code",
   "execution_count": 20,
   "metadata": {},
   "outputs": [
    {
     "name": "stdout",
     "output_type": "stream",
     "text": [
      "arn:aws:iam::532805286864:role/PersonalizeS3-Rolemwomk\n"
     ]
    }
   ],
   "source": [
    "iam = boto3.client(\"iam\")\n",
    "\n",
    "role_name = \"PersonalizeS3-Role\" + suffix\n",
    "assume_role_policy_document = {\n",
    "  \"Version\": \"2012-10-17\",\n",
    "  \"Statement\": [\n",
    "    {\n",
    "      \"Effect\": \"Allow\",\n",
    "      \"Principal\": {\n",
    "        \"Service\": \"personalize.amazonaws.com\"\n",
    "      },\n",
    "      \"Action\": \"sts:AssumeRole\"\n",
    "    }\n",
    "  ]\n",
    "}\n",
    "\n",
    "try:\n",
    "  create_role_resp = iam.create_role(\n",
    "    RoleName = role_name,\n",
    "    AssumeRolePolicyDocument = json.dumps(assume_role_policy_document)\n",
    "  )\n",
    "\n",
    "  iam.attach_role_policy(\n",
    "    RoleName = role_name,\n",
    "    PolicyArn = \"arn:aws:iam::aws:policy/AmazonS3ReadOnlyAccess\"\n",
    "  )\n",
    "\n",
    "  role_arn = create_role_resp['Role']['Arn']\n",
    "except ClientError as e:\n",
    "  if e.response['Error']['Code'] == 'EntityAlreadyExists':\n",
    "    role_arn = iam.get_role(RoleName=role_name)['Role']['Arn']\n",
    "  else:\n",
    "    raise\n",
    "\n",
    "time.sleep(45)\n",
    "print(role_arn)"
   ]
  },
  {
   "cell_type": "code",
   "execution_count": 16,
   "metadata": {},
   "outputs": [
    {
     "name": "stdout",
     "output_type": "stream",
     "text": [
      "arn:aws:personalize:ap-northeast-2:532805286864:dataset-group/osungmart-dataset-groupmwomk\n"
     ]
    }
   ],
   "source": [
    "# dataset_group_arn = \"arn:aws:personalize:ap-northeast-2:532805286864:dataset-group/osungmart-dataset-groupmwomk\"\n",
    "# bucket_name = \"osungmart-personalize-mwomk\"\n",
    "# interactions_filename =\"data/interactions-sample.csv\"\n",
    "# role_arn = \"arn:aws:iam::532805286864:role/PersonalizeS3-Rolemwomk\"\n",
    "# print(dataset_group_arn)"
   ]
  },
  {
   "attachments": {},
   "cell_type": "markdown",
   "metadata": {},
   "source": [
    "#### Dataset import jobs 생성\n",
    "upload s3 data to dataset"
   ]
  },
  {
   "cell_type": "code",
   "execution_count": 28,
   "metadata": {},
   "outputs": [
    {
     "ename": "InvalidInputException",
     "evalue": "An error occurred (InvalidInputException) when calling the CreateDatasetImportJob operation: Input csv has rows that do not conform to the dataset schema. Please ensure all required data fields are present and that they are of the type specified in the schema.",
     "output_type": "error",
     "traceback": [
      "\u001b[0;31m---------------------------------------------------------------------------\u001b[0m",
      "\u001b[0;31mInvalidInputException\u001b[0m                     Traceback (most recent call last)",
      "Cell \u001b[0;32mIn[28], line 2\u001b[0m\n\u001b[1;32m      1\u001b[0m \u001b[39m# import the interactions data\u001b[39;00m\n\u001b[0;32m----> 2\u001b[0m create_dataset_import_job_resp \u001b[39m=\u001b[39m personalize\u001b[39m.\u001b[39;49mcreate_dataset_import_job(\n\u001b[1;32m      3\u001b[0m   jobName \u001b[39m=\u001b[39;49m \u001b[39m\"\u001b[39;49m\u001b[39mosungmart-dataset-import-job-interactions\u001b[39;49m\u001b[39m\"\u001b[39;49m,\n\u001b[1;32m      4\u001b[0m   datasetArn \u001b[39m=\u001b[39;49m interactions_dataset_arn,\n\u001b[1;32m      5\u001b[0m   dataSource \u001b[39m=\u001b[39;49m {\n\u001b[1;32m      6\u001b[0m     \u001b[39m\"\u001b[39;49m\u001b[39mdataLocation\u001b[39;49m\u001b[39m\"\u001b[39;49m: \u001b[39m\"\u001b[39;49m\u001b[39ms3://\u001b[39;49m\u001b[39m{}\u001b[39;49;00m\u001b[39m/\u001b[39;49m\u001b[39m{}\u001b[39;49;00m\u001b[39m\"\u001b[39;49m\u001b[39m.\u001b[39;49mformat(bucket_name, interactions_filename)\n\u001b[1;32m      7\u001b[0m   },\n\u001b[1;32m      8\u001b[0m   roleArn \u001b[39m=\u001b[39;49m role_arn\n\u001b[1;32m      9\u001b[0m )\n\u001b[1;32m     11\u001b[0m dataset_import_job_arn \u001b[39m=\u001b[39m create_dataset_import_job_resp[\u001b[39m'\u001b[39m\u001b[39mdatasetImportJobArn\u001b[39m\u001b[39m'\u001b[39m]\n\u001b[1;32m     12\u001b[0m \u001b[39mprint\u001b[39m(json\u001b[39m.\u001b[39mdumps(create_dataset_import_job_resp, indent\u001b[39m=\u001b[39m\u001b[39m2\u001b[39m))\n",
      "File \u001b[0;32m~/miniconda3/envs/aws-aiml/lib/python3.10/site-packages/botocore/client.py:530\u001b[0m, in \u001b[0;36mClientCreator._create_api_method.<locals>._api_call\u001b[0;34m(self, *args, **kwargs)\u001b[0m\n\u001b[1;32m    526\u001b[0m     \u001b[39mraise\u001b[39;00m \u001b[39mTypeError\u001b[39;00m(\n\u001b[1;32m    527\u001b[0m         \u001b[39mf\u001b[39m\u001b[39m\"\u001b[39m\u001b[39m{\u001b[39;00mpy_operation_name\u001b[39m}\u001b[39;00m\u001b[39m() only accepts keyword arguments.\u001b[39m\u001b[39m\"\u001b[39m\n\u001b[1;32m    528\u001b[0m     )\n\u001b[1;32m    529\u001b[0m \u001b[39m# The \"self\" in this scope is referring to the BaseClient.\u001b[39;00m\n\u001b[0;32m--> 530\u001b[0m \u001b[39mreturn\u001b[39;00m \u001b[39mself\u001b[39;49m\u001b[39m.\u001b[39;49m_make_api_call(operation_name, kwargs)\n",
      "File \u001b[0;32m~/miniconda3/envs/aws-aiml/lib/python3.10/site-packages/botocore/client.py:960\u001b[0m, in \u001b[0;36mBaseClient._make_api_call\u001b[0;34m(self, operation_name, api_params)\u001b[0m\n\u001b[1;32m    958\u001b[0m     error_code \u001b[39m=\u001b[39m parsed_response\u001b[39m.\u001b[39mget(\u001b[39m\"\u001b[39m\u001b[39mError\u001b[39m\u001b[39m\"\u001b[39m, {})\u001b[39m.\u001b[39mget(\u001b[39m\"\u001b[39m\u001b[39mCode\u001b[39m\u001b[39m\"\u001b[39m)\n\u001b[1;32m    959\u001b[0m     error_class \u001b[39m=\u001b[39m \u001b[39mself\u001b[39m\u001b[39m.\u001b[39mexceptions\u001b[39m.\u001b[39mfrom_code(error_code)\n\u001b[0;32m--> 960\u001b[0m     \u001b[39mraise\u001b[39;00m error_class(parsed_response, operation_name)\n\u001b[1;32m    961\u001b[0m \u001b[39melse\u001b[39;00m:\n\u001b[1;32m    962\u001b[0m     \u001b[39mreturn\u001b[39;00m parsed_response\n",
      "\u001b[0;31mInvalidInputException\u001b[0m: An error occurred (InvalidInputException) when calling the CreateDatasetImportJob operation: Input csv has rows that do not conform to the dataset schema. Please ensure all required data fields are present and that they are of the type specified in the schema."
     ]
    }
   ],
   "source": [
    "# import the interactions data\n",
    "create_dataset_import_job_resp = personalize.create_dataset_import_job(\n",
    "  jobName = \"osungmart-dataset-import-job-interactions\",\n",
    "  datasetArn = interactions_dataset_arn,\n",
    "  dataSource = {\n",
    "    \"dataLocation\": \"s3://{}/{}\".format(bucket_name, interactions_filename)\n",
    "  },\n",
    "  roleArn = role_arn\n",
    ")\n",
    "\n",
    "dataset_import_job_arn = create_dataset_import_job_resp['datasetImportJobArn']\n",
    "print(json.dumps(create_dataset_import_job_resp, indent=2))"
   ]
  },
  {
   "cell_type": "code",
   "execution_count": null,
   "metadata": {},
   "outputs": [],
   "source": []
  }
 ],
 "metadata": {
  "kernelspec": {
   "display_name": "aws-aiml",
   "language": "python",
   "name": "python3"
  },
  "language_info": {
   "codemirror_mode": {
    "name": "ipython",
    "version": 3
   },
   "file_extension": ".py",
   "mimetype": "text/x-python",
   "name": "python",
   "nbconvert_exporter": "python",
   "pygments_lexer": "ipython3",
   "version": "3.10.9"
  },
  "orig_nbformat": 4,
  "vscode": {
   "interpreter": {
    "hash": "2f1b3fcb20ec9c63a72a90240cd0ecd228c2ecf5259b8c8b407d7315226f675b"
   }
  }
 },
 "nbformat": 4,
 "nbformat_minor": 2
}
