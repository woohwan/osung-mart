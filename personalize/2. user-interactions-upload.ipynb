{
 "cells": [
  {
   "attachments": {},
   "cell_type": "markdown",
   "metadata": {},
   "source": [
    "#### S3 Upload\n",
    "- 정제되 파일 읽기 및 확인\n",
    "- Personalize가 사용할 S3 Bucket 생성, Policy 적용\n",
    "- record가 너무 많으며, 학습속도에 문제가 있으므로 10 만 건으로 샘플링. 단. event_cnt가 최소 3개 되도록 설정 (성능을 위해서)\n",
    "- 샘플 데이터에서 evnet_cnt drop 후 s3에 uplaod"
   ]
  },
  {
   "cell_type": "code",
   "execution_count": 1,
   "metadata": {},
   "outputs": [],
   "source": [
    "import pandas as pd\n",
    "import datetime\n",
    "import numpy as np\n",
    "pd.set_option('display.width', 1000)"
   ]
  },
  {
   "cell_type": "code",
   "execution_count": 2,
   "metadata": {},
   "outputs": [
    {
     "name": "stdout",
     "output_type": "stream",
     "text": [
      "(10505424, 4)\n"
     ]
    },
    {
     "data": {
      "text/html": [
       "<div>\n",
       "<style scoped>\n",
       "    .dataframe tbody tr th:only-of-type {\n",
       "        vertical-align: middle;\n",
       "    }\n",
       "\n",
       "    .dataframe tbody tr th {\n",
       "        vertical-align: top;\n",
       "    }\n",
       "\n",
       "    .dataframe thead th {\n",
       "        text-align: right;\n",
       "    }\n",
       "</style>\n",
       "<table border=\"1\" class=\"dataframe\">\n",
       "  <thead>\n",
       "    <tr style=\"text-align: right;\">\n",
       "      <th></th>\n",
       "      <th>USER_ID</th>\n",
       "      <th>ITEM_ID</th>\n",
       "      <th>TIMESTAMP</th>\n",
       "      <th>EVENT_TYPE</th>\n",
       "    </tr>\n",
       "  </thead>\n",
       "  <tbody>\n",
       "    <tr>\n",
       "      <th>0</th>\n",
       "      <td>533326659</td>\n",
       "      <td>1005014</td>\n",
       "      <td>1667260814</td>\n",
       "      <td>cart</td>\n",
       "    </tr>\n",
       "    <tr>\n",
       "      <th>1</th>\n",
       "      <td>565865924</td>\n",
       "      <td>1005115</td>\n",
       "      <td>1667261019</td>\n",
       "      <td>cart</td>\n",
       "    </tr>\n",
       "    <tr>\n",
       "      <th>2</th>\n",
       "      <td>549256216</td>\n",
       "      <td>1002542</td>\n",
       "      <td>1667261154</td>\n",
       "      <td>cart</td>\n",
       "    </tr>\n",
       "    <tr>\n",
       "      <th>3</th>\n",
       "      <td>549256216</td>\n",
       "      <td>1002542</td>\n",
       "      <td>1667261242</td>\n",
       "      <td>cart</td>\n",
       "    </tr>\n",
       "    <tr>\n",
       "      <th>4</th>\n",
       "      <td>522355747</td>\n",
       "      <td>4804056</td>\n",
       "      <td>1667261445</td>\n",
       "      <td>cart</td>\n",
       "    </tr>\n",
       "  </tbody>\n",
       "</table>\n",
       "</div>"
      ],
      "text/plain": [
       "     USER_ID  ITEM_ID   TIMESTAMP EVENT_TYPE\n",
       "0  533326659  1005014  1667260814       cart\n",
       "1  565865924  1005115  1667261019       cart\n",
       "2  549256216  1002542  1667261154       cart\n",
       "3  549256216  1002542  1667261242       cart\n",
       "4  522355747  4804056  1667261445       cart"
      ]
     },
     "execution_count": 2,
     "metadata": {},
     "output_type": "execute_result"
    }
   ],
   "source": [
    "interactions = pd.read_csv('./data/cleaned_user_interactions.csv')\n",
    "print(interactions.shape)\n",
    "interactions.head()"
   ]
  },
  {
   "cell_type": "code",
   "execution_count": 3,
   "metadata": {},
   "outputs": [],
   "source": [
    "# dataframe 내에 colname 이 multi_cnt 이상 df 반환\n",
    "def filter_df(df, colname='USER_ID',  multi_cnt=2):\n",
    "    # colname user_id 인 경우  아래 조건을 맞족한는 Series의 index 가 user_id\n",
    "    is_multi = df[colname].value_counts() > 1\n",
    "    # Series boolean index를 이용\n",
    "    multi_index = is_multi[is_multi].index\n",
    "    filtered = df[df[colname].isin(multi_index)]\n",
    "    return filtered, multi_index"
   ]
  },
  {
   "cell_type": "code",
   "execution_count": 4,
   "metadata": {},
   "outputs": [],
   "source": [
    "insteractins_sample = interactions.sample(n=150000)\n",
    "filterd_sample, _ = filter_df(insteractins_sample)"
   ]
  },
  {
   "cell_type": "code",
   "execution_count": 5,
   "metadata": {},
   "outputs": [
    {
     "data": {
      "text/plain": [
       "568782581    30\n",
       "512409624    19\n",
       "582826305    18\n",
       "572994775    17\n",
       "549109608    17\n",
       "             ..\n",
       "523330463     2\n",
       "557987857     2\n",
       "512372678     2\n",
       "560800107     2\n",
       "549495088     2\n",
       "Name: USER_ID, Length: 13236, dtype: int64"
      ]
     },
     "execution_count": 5,
     "metadata": {},
     "output_type": "execute_result"
    }
   ],
   "source": [
    "filterd_sample['USER_ID'].value_counts()"
   ]
  },
  {
   "cell_type": "code",
   "execution_count": 6,
   "metadata": {},
   "outputs": [
    {
     "data": {
      "text/plain": [
       "USER_ID       0\n",
       "ITEM_ID       0\n",
       "TIMESTAMP     0\n",
       "EVENT_TYPE    0\n",
       "dtype: int64"
      ]
     },
     "execution_count": 6,
     "metadata": {},
     "output_type": "execute_result"
    }
   ],
   "source": [
    "insteractins_sample.isnull().sum()"
   ]
  },
  {
   "cell_type": "code",
   "execution_count": 7,
   "metadata": {},
   "outputs": [],
   "source": [
    "# insteractions sampling data을 파일로 저장\n",
    "insteractins_sample.to_csv('./data/interactions-sample.csv', index=False)"
   ]
  },
  {
   "cell_type": "code",
   "execution_count": 8,
   "metadata": {},
   "outputs": [
    {
     "name": "stdout",
     "output_type": "stream",
     "text": [
      "<class 'pandas.core.frame.DataFrame'>\n",
      "RangeIndex: 150000 entries, 0 to 149999\n",
      "Data columns (total 4 columns):\n",
      " #   Column      Non-Null Count   Dtype \n",
      "---  ------      --------------   ----- \n",
      " 0   USER_ID     150000 non-null  int64 \n",
      " 1   ITEM_ID     150000 non-null  int64 \n",
      " 2   TIMESTAMP   150000 non-null  int64 \n",
      " 3   EVENT_TYPE  150000 non-null  object\n",
      "dtypes: int64(3), object(1)\n",
      "memory usage: 4.6+ MB\n"
     ]
    }
   ],
   "source": [
    "# read sampled interactions file\n",
    "sampled_intreactions = pd.read_csv('./data/interactions-sample.csv')\n",
    "sampled_intreactions.info()"
   ]
  },
  {
   "attachments": {},
   "cell_type": "markdown",
   "metadata": {},
   "source": [
    "#### Create Bucket and policy"
   ]
  },
  {
   "cell_type": "code",
   "execution_count": 9,
   "metadata": {},
   "outputs": [],
   "source": [
    "import boto3\n",
    "from botocore.exceptions import ClientError\n",
    "import numpy as np\n",
    "import string\n",
    "import random\n",
    "import json\n",
    "import time"
   ]
  },
  {
   "attachments": {},
   "cell_type": "markdown",
   "metadata": {},
   "source": [
    "#### Configure S3 bucket and an IAM Role"
   ]
  },
  {
   "cell_type": "code",
   "execution_count": 10,
   "metadata": {},
   "outputs": [
    {
     "name": "stdout",
     "output_type": "stream",
     "text": [
      "Buket osungmart-personalize-mwomk alread exist\n"
     ]
    }
   ],
   "source": [
    "random.seed(2023)\n",
    "suffix = ''.join(random.choice(string.ascii_lowercase) for i in range(5))\n",
    "# bucket  생성\n",
    "bucket_name = \"osungmart-personalize-\" + suffix\n",
    "region = 'ap-northeast-2'\n",
    "# print(bucket_name)\n",
    "s3 = boto3.client(\"s3\")\n",
    "try:\n",
    "  create_bucket_resp = s3.create_bucket(\n",
    "    Bucket = bucket_name,\n",
    "    CreateBucketConfiguration = {\n",
    "      'LocationConstraint' : region\n",
    "    },\n",
    "  )\n",
    "except ClientError as err:\n",
    "  if err.response['Error']['Code'] == 'BucketAlreadyOwnedByYou':\n",
    "    print(f\"Buket {bucket_name} alread exist\")\n",
    "  else:\n",
    "    raise"
   ]
  },
  {
   "attachments": {},
   "cell_type": "markdown",
   "metadata": {},
   "source": [
    "Upload data to S3"
   ]
  },
  {
   "cell_type": "code",
   "execution_count": 11,
   "metadata": {},
   "outputs": [],
   "source": [
    "data_dir = 'data'\n",
    "interactions_filename = data_dir + '/interactions-sample.csv'\n",
    "try: \n",
    "  boto3.Session().resource('s3').Bucket(bucket_name).Object(interactions_filename).upload_file(interactions_filename)\n",
    "except ClientError as e:\n",
    "  print(e)"
   ]
  },
  {
   "cell_type": "markdown",
   "metadata": {},
   "source": [
    "#### Dataset Group and Dataset"
   ]
  },
  {
   "cell_type": "code",
   "execution_count": 12,
   "metadata": {},
   "outputs": [],
   "source": [
    "personalize = boto3.client('personalize')"
   ]
  },
  {
   "cell_type": "code",
   "execution_count": 16,
   "metadata": {},
   "outputs": [
    {
     "name": "stdout",
     "output_type": "stream",
     "text": [
      "dataset group: osungmart-dataset-groupmwomk arleady exist\n"
     ]
    }
   ],
   "source": [
    "# Create Dataset Group\n",
    "dataset_group_name = \"osungmart-dataset-group\" + suffix\n",
    "\n",
    "try:\n",
    "  create_dataset_group_resp = personalize.create_dataset_group(\n",
    "    name = dataset_group_name\n",
    "  )\n",
    "  dataset_group_arn = create_dataset_group_resp['datasetGroupArn']\n",
    "  print(json.dumps(create_dataset_group_resp, indent=2))\n",
    "except ClientError as e:\n",
    "  if e.response[\"Error\"][\"Code\"] == \"ResourceAlreadyExistsException\":\n",
    "    print(f\"dataset group: {dataset_group_name} arleady exist\")\n",
    "  else:\n",
    "    raise\n",
    "\n",
    "\n"
   ]
  },
  {
   "cell_type": "code",
   "execution_count": 27,
   "metadata": {},
   "outputs": [
    {
     "name": "stdout",
     "output_type": "stream",
     "text": [
      "datasetGroupArn: arn:aws:personalize:ap-northeast-2:532805286864:dataset-group/osungmart-dataset-groupmwomk\n"
     ]
    }
   ],
   "source": [
    "# 이미 dataset group이 생성되어 있을 때, 조회\n",
    "list_dataset_group_resp = personalize.list_dataset_groups(\n",
    "  maxResults=10\n",
    ")\n",
    "\n",
    "for dataset_grp in list_dataset_group_resp['datasetGroups']:\n",
    "  if dataset_grp['name'] == dataset_group_name:\n",
    "    dataset_group_arn = dataset_grp['datasetGroupArn']\n",
    "    print(\"dataset_group_arn: {}\".format(dataset_grp['datasetGroupArn']) )"
   ]
  },
  {
   "cell_type": "code",
   "execution_count": 28,
   "metadata": {},
   "outputs": [
    {
     "name": "stdout",
     "output_type": "stream",
     "text": [
      "DatasetGroup: ACTIVE\n"
     ]
    }
   ],
   "source": [
    "# dataset group 생성 모니터링\n",
    "status = None\n",
    "max_time = time.time()* 3*60*60 # 3h\n",
    "while time.time() < max_time:\n",
    "  describe_dataset_group_resp = personalize.describe_dataset_group(\n",
    "    datasetGroupArn = dataset_group_arn\n",
    "  )\n",
    "  status = describe_dataset_group_resp['datasetGroup']['status']\n",
    "  print(\"DatasetGroup: {}\".format(status))\n",
    "\n",
    "  if status == \"ACTIVE\" or status == 'CREATE FAILED':\n",
    "    break\n",
    "\n",
    "  time.sleep(10)"
   ]
  },
  {
   "attachments": {},
   "cell_type": "markdown",
   "metadata": {},
   "source": [
    "#### dataset 생성\n",
    "interactions dataset"
   ]
  },
  {
   "cell_type": "code",
   "execution_count": 29,
   "metadata": {},
   "outputs": [],
   "source": [
    "schema_name = \"osungmart-interactions-schema\""
   ]
  },
  {
   "cell_type": "code",
   "execution_count": 28,
   "metadata": {},
   "outputs": [
    {
     "data": {
      "text/plain": [
       "{'ResponseMetadata': {'RequestId': '888198d6-a6de-4a83-85d4-f98de391122e',\n",
       "  'HTTPStatusCode': 200,\n",
       "  'HTTPHeaders': {'date': 'Thu, 02 Feb 2023 07:59:30 GMT',\n",
       "   'content-type': 'application/x-amz-json-1.1',\n",
       "   'content-length': '0',\n",
       "   'connection': 'keep-alive',\n",
       "   'x-amzn-requestid': '888198d6-a6de-4a83-85d4-f98de391122e'},\n",
       "  'RetryAttempts': 0}}"
      ]
     },
     "execution_count": 28,
     "metadata": {},
     "output_type": "execute_result"
    }
   ],
   "source": [
    "# delete schema\n",
    "# personalize.delete_schema(\n",
    "#   schemaArn = \"arn:aws:personalize:ap-northeast-2:532805286864:schema/osungmart-interactions-schema\"\n",
    "# )"
   ]
  },
  {
   "cell_type": "code",
   "execution_count": 31,
   "metadata": {},
   "outputs": [
    {
     "name": "stdout",
     "output_type": "stream",
     "text": [
      "dataset schema: osungmart-interactions-schema arleady exist\n"
     ]
    }
   ],
   "source": [
    "# schema 생성\n",
    "# USER_ID,ITEM_ID,TIMESTAMP,EVENT_TYPE\n",
    "\n",
    "\n",
    "schema = {\n",
    "  \"type\": \"record\",\n",
    "  \"name\": \"Interactions\",\n",
    "  \"namespace\": \"com.amazonaws.personalize.schema\",\n",
    "  \"fields\": [\n",
    "    {\n",
    "      \"name\": \"ITEM_ID\",\n",
    "      \"type\": \"string\"\n",
    "    },\n",
    "    {\n",
    "      \"name\": \"USER_ID\",\n",
    "      \"type\": \"string\"\n",
    "    },\n",
    "    {\n",
    "      \"name\": \"TIMESTAMP\",\n",
    "      \"type\": \"long\"\n",
    "    },\n",
    "    {\n",
    "      \"name\": \"EVENT_TYPE\",\n",
    "      \"type\": \"string\"\n",
    "    }\n",
    "  ]\n",
    "}\n",
    "try: \n",
    "  create_schema_resp = personalize.create_schema(\n",
    "    name = schema_name,\n",
    "    schema = json.dumps(schema)\n",
    "  )\n",
    "\n",
    "  schema_arn = create_schema_resp['schemaArn']\n",
    "  print(json.dumps(create_schema_resp, indent=2))\n",
    "except ClientError as e:\n",
    "  if e.response[\"Error\"][\"Code\"] == \"ResourceAlreadyExistsException\":\n",
    "    print(f\"dataset schema: {schema_name} arleady exist\")\n",
    "  else:\n",
    "    raise"
   ]
  },
  {
   "cell_type": "code",
   "execution_count": 33,
   "metadata": {},
   "outputs": [
    {
     "name": "stdout",
     "output_type": "stream",
     "text": [
      "schema_arn: arn:aws:personalize:ap-northeast-2:532805286864:schema/osungmart-interactions-schema\n"
     ]
    }
   ],
   "source": [
    "# 이미 dataset schema이 생성되어 있을 때, 조회\n",
    "list_schemas_resp = personalize.list_schemas(\n",
    "  maxResults=10\n",
    ")\n",
    "\n",
    "for schema in list_schemas_resp['schemas']:\n",
    "  if schema['name'] == schema_name:\n",
    "    schema_arn = schema['schemaArn']\n",
    "    print(\"schema_arn: {}\".format(schema_arn) )"
   ]
  },
  {
   "cell_type": "code",
   "execution_count": 40,
   "metadata": {},
   "outputs": [
    {
     "name": "stdout",
     "output_type": "stream",
     "text": [
      "dataset : osugnmart-dataset-interactions arleady exist\n",
      "dataet_arn: arn:aws:personalize:ap-northeast-2:532805286864:dataset/osungmart-dataset-groupmwomk/INTERACTIONS\n"
     ]
    }
   ],
   "source": [
    "# create dataset\n",
    "dataset_type = \"INTERACTIONS\"\n",
    "dataset_name = \"osugnmart-dataset-interactions\"\n",
    "try:\n",
    "  create_dataset_resp = personalize.create_dataset(\n",
    "    datasetType = dataset_type,\n",
    "    datasetGroupArn = dataset_group_arn,\n",
    "    schemaArn = schema_arn,\n",
    "    name = dataset_name\n",
    "  )\n",
    "\n",
    "  interactions_dataset_arn = create_dataset_resp['datasetArn']\n",
    "  print(json.dumps(create_dataset_resp, indent=2))\n",
    "except ClientError as e:\n",
    "  if e.response[\"Error\"][\"Code\"] == \"ResourceAlreadyExistsException\":\n",
    "    print(f\"dataset : {dataset_name} arleady exist\")\n",
    "    list_datasets_resp = personalize.list_datasets(\n",
    "      datasetGroupArn = dataset_group_arn,\n",
    "      maxResults = 10\n",
    "    )\n",
    "\n",
    "    for dataset in list_datasets_resp['datasets']:\n",
    "      if dataset['name'] == dataset_name:\n",
    "        interactions_dataset_arn = dataset['datasetArn']\n",
    "        print(f\"dataet_arn: {interactions_dataset_arn}\")\n",
    "  else:\n",
    "    raise"
   ]
  },
  {
   "attachments": {},
   "cell_type": "markdown",
   "metadata": {},
   "source": [
    "#### S3 Bucket policy 설정\n",
    "peronalize service가 s3 bucket에 접근할 수 있도록 bucket permission 설정"
   ]
  },
  {
   "cell_type": "code",
   "execution_count": 37,
   "metadata": {},
   "outputs": [
    {
     "data": {
      "text/plain": [
       "{'ResponseMetadata': {'RequestId': 'AJBC8RMHWNQCDR8X',\n",
       "  'HostId': '3LsgbugFjjJtI7xKLavkVtbe8plVk0bWCv2PULTEds0Mznea4PB2Kv5s/cq3jKGOMLk5KMXBQF4=',\n",
       "  'HTTPStatusCode': 204,\n",
       "  'HTTPHeaders': {'x-amz-id-2': '3LsgbugFjjJtI7xKLavkVtbe8plVk0bWCv2PULTEds0Mznea4PB2Kv5s/cq3jKGOMLk5KMXBQF4=',\n",
       "   'x-amz-request-id': 'AJBC8RMHWNQCDR8X',\n",
       "   'date': 'Fri, 03 Feb 2023 01:11:56 GMT',\n",
       "   'server': 'AmazonS3'},\n",
       "  'RetryAttempts': 0}}"
      ]
     },
     "execution_count": 37,
     "metadata": {},
     "output_type": "execute_result"
    }
   ],
   "source": [
    "policy = {\n",
    "    \"Version\": \"2012-10-17\",\n",
    "    \"Id\": \"PersonalizeS3BucketAccessPolicy\",\n",
    "    \"Statement\": [\n",
    "        {\n",
    "            \"Sid\": \"PersonalizeS3BucketAccessPolicy\",\n",
    "            \"Effect\": \"Allow\",\n",
    "            \"Principal\": {\n",
    "                \"Service\": \"personalize.amazonaws.com\",\n",
    "            },\n",
    "            \"Action\": [\n",
    "                \"s3:GetObject\",\n",
    "                \"s3:ListBucket\"\n",
    "            ],\n",
    "            \"Resource\": [\n",
    "                \"arn:aws:s3:::{}\".format(bucket_name),\n",
    "                \"arn:aws:s3:::{}/*\".format(bucket_name)\n",
    "            ]\n",
    "        }\n",
    "    ]\n",
    "}\n",
    "\n",
    "s3.put_bucket_policy(Bucket=bucket_name, Policy=json.dumps(policy))"
   ]
  },
  {
   "attachments": {},
   "cell_type": "markdown",
   "metadata": {},
   "source": [
    "#### IAM Role 생성"
   ]
  },
  {
   "cell_type": "code",
   "execution_count": 38,
   "metadata": {},
   "outputs": [
    {
     "name": "stdout",
     "output_type": "stream",
     "text": [
      "this Role already exist\n",
      "arn:aws:iam::532805286864:role/PersonalizeS3-Rolemwomk\n"
     ]
    }
   ],
   "source": [
    "iam = boto3.client(\"iam\")\n",
    "\n",
    "role_name = \"PersonalizeS3-Role\" + suffix\n",
    "assume_role_policy_document = {\n",
    "  \"Version\": \"2012-10-17\",\n",
    "  \"Statement\": [\n",
    "    {\n",
    "      \"Effect\": \"Allow\",\n",
    "      \"Principal\": {\n",
    "        \"Service\": \"personalize.amazonaws.com\"\n",
    "      },\n",
    "      \"Action\": \"sts:AssumeRole\"\n",
    "    }\n",
    "  ]\n",
    "}\n",
    "\n",
    "try:\n",
    "  create_role_resp = iam.create_role(\n",
    "    RoleName = role_name,\n",
    "    AssumeRolePolicyDocument = json.dumps(assume_role_policy_document)\n",
    "  )\n",
    "\n",
    "  iam.attach_role_policy(\n",
    "    RoleName = role_name,\n",
    "    PolicyArn = \"arn:aws:iam::aws:policy/AmazonS3ReadOnlyAccess\"\n",
    "  )\n",
    "\n",
    "  role_arn = create_role_resp['Role']['Arn']\n",
    "except ClientError as e:\n",
    "  if e.response['Error']['Code'] == 'EntityAlreadyExists':\n",
    "    print(\"this Role already exist\")\n",
    "    role_arn = iam.get_role(RoleName=role_name)['Role']['Arn']\n",
    "  else:\n",
    "    raise\n",
    "\n",
    "time.sleep(30)\n",
    "print(role_arn)"
   ]
  },
  {
   "cell_type": "code",
   "execution_count": 30,
   "metadata": {},
   "outputs": [],
   "source": [
    "# dataset_group_arn = \"arn:aws:personalize:ap-northeast-2:532805286864:dataset-group/osungmart-dataset-groupmwomk\"\n",
    "# bucket_name = \"osungmart-personalize-mwomk\"\n",
    "# interactions_filename =\"data/interactions-sample.csv\"\n",
    "# role_arn = \"arn:aws:iam::532805286864:role/PersonalizeS3-Rolemwomk\"\n",
    "# print(dataset_group_arn)"
   ]
  },
  {
   "attachments": {},
   "cell_type": "markdown",
   "metadata": {},
   "source": [
    "#### Dataset import jobs 생성\n",
    "upload s3 data to dataset"
   ]
  },
  {
   "cell_type": "code",
   "execution_count": 42,
   "metadata": {},
   "outputs": [],
   "source": [
    "job_name = \"osungmart-dataset-import-job-interactions\""
   ]
  },
  {
   "cell_type": "code",
   "execution_count": 46,
   "metadata": {},
   "outputs": [
    {
     "name": "stdout",
     "output_type": "stream",
     "text": [
      "this import Job - osungmart-dataset-import-job-interactions - arleady exists\n",
      "ImportJobs Arn: arn:aws:personalize:ap-northeast-2:532805286864:dataset-import-job/osungmart-dataset-import-job-interactions\n"
     ]
    }
   ],
   "source": [
    "# import the interactions data: import Job은 독립적으로 삭제 불가\n",
    "try:\n",
    "  create_dataset_import_job_resp = personalize.create_dataset_import_job(\n",
    "    jobName = job_name,\n",
    "    datasetArn = interactions_dataset_arn,\n",
    "    dataSource = {\n",
    "      \"dataLocation\": \"s3://{}/{}\".format(bucket_name, interactions_filename)\n",
    "    },\n",
    "    roleArn = role_arn\n",
    "  )\n",
    "\n",
    "  dataset_import_job_arn = create_dataset_import_job_resp['datasetImportJobArn']\n",
    "  print(json.dumps(create_dataset_import_job_resp, indent=2))\n",
    "except ClientError as e:\n",
    "  if e.response[\"Error\"][\"Code\"] == \"ResourceAlreadyExistsException\":\n",
    "    print(f\"this import Job - {job_name} - arleady exists\")\n",
    "    list_dataset_import_jobs_resp = personalize.list_dataset_import_jobs(\n",
    "      datasetArn = interactions_dataset_arn,\n",
    "      maxResults = 10\n",
    "    )\n",
    "\n",
    "    for jobs in list_dataset_import_jobs_resp['datasetImportJobs']:\n",
    "      if jobs['jobName'] == job_name:\n",
    "        dataset_import_job_arn = jobs['datasetImportJobArn']\n",
    "        print(f\"ImportJobs Arn: {dataset_import_job_arn}\")"
   ]
  },
  {
   "cell_type": "code",
   "execution_count": 47,
   "metadata": {},
   "outputs": [
    {
     "name": "stdout",
     "output_type": "stream",
     "text": [
      "ImportJobs: ACTIVE\n"
     ]
    }
   ],
   "source": [
    "# import jobs 생성 모니터링\n",
    "status = None\n",
    "max_time = time.time()* 3*60*60 # 3h\n",
    "while time.time() < max_time:\n",
    "  describe_dataset_import_resp = personalize.describe_dataset_import_job(\n",
    "    datasetImportJobArn = dataset_import_job_arn\n",
    ")\n",
    "  status = describe_dataset_import_resp['datasetImportJob']['status']\n",
    "  print(\"ImportJobs: {}\".format(status))\n",
    "\n",
    "  if status == \"ACTIVE\" or status == 'CREATE FAILED':\n",
    "    break\n",
    "\n",
    "  time.sleep(10)"
   ]
  },
  {
   "cell_type": "code",
   "execution_count": null,
   "metadata": {},
   "outputs": [],
   "source": []
  }
 ],
 "metadata": {
  "kernelspec": {
   "display_name": "aws-aiml",
   "language": "python",
   "name": "python3"
  },
  "language_info": {
   "codemirror_mode": {
    "name": "ipython",
    "version": 3
   },
   "file_extension": ".py",
   "mimetype": "text/x-python",
   "name": "python",
   "nbconvert_exporter": "python",
   "pygments_lexer": "ipython3",
   "version": "3.10.9"
  },
  "orig_nbformat": 4,
  "vscode": {
   "interpreter": {
    "hash": "2f1b3fcb20ec9c63a72a90240cd0ecd228c2ecf5259b8c8b407d7315226f675b"
   }
  }
 },
 "nbformat": 4,
 "nbformat_minor": 2
}
