{
 "cells": [
  {
   "cell_type": "code",
   "execution_count": 1,
   "metadata": {},
   "outputs": [],
   "source": [
    "import pandas as pd\n",
    "import datetime\n",
    "pd.set_option('display.width', 1000)"
   ]
  },
  {
   "cell_type": "code",
   "execution_count": 2,
   "metadata": {},
   "outputs": [
    {
     "ename": "KeyboardInterrupt",
     "evalue": "",
     "output_type": "error",
     "traceback": [
      "\u001b[0;31m---------------------------------------------------------------------------\u001b[0m",
      "\u001b[0;31mKeyboardInterrupt\u001b[0m                         Traceback (most recent call last)",
      "Cell \u001b[0;32mIn[2], line 1\u001b[0m\n\u001b[0;32m----> 1\u001b[0m user_interactions \u001b[39m=\u001b[39m pd\u001b[39m.\u001b[39;49mread_csv(\u001b[39m'\u001b[39;49m\u001b[39m./data/user-interactions.csv\u001b[39;49m\u001b[39m'\u001b[39;49m)\n\u001b[1;32m      2\u001b[0m user_interactions\u001b[39m.\u001b[39mhead()\n",
      "File \u001b[0;32m~/miniconda3/envs/aws-aiml/lib/python3.10/site-packages/pandas/util/_decorators.py:211\u001b[0m, in \u001b[0;36mdeprecate_kwarg.<locals>._deprecate_kwarg.<locals>.wrapper\u001b[0;34m(*args, **kwargs)\u001b[0m\n\u001b[1;32m    209\u001b[0m     \u001b[39melse\u001b[39;00m:\n\u001b[1;32m    210\u001b[0m         kwargs[new_arg_name] \u001b[39m=\u001b[39m new_arg_value\n\u001b[0;32m--> 211\u001b[0m \u001b[39mreturn\u001b[39;00m func(\u001b[39m*\u001b[39;49margs, \u001b[39m*\u001b[39;49m\u001b[39m*\u001b[39;49mkwargs)\n",
      "File \u001b[0;32m~/miniconda3/envs/aws-aiml/lib/python3.10/site-packages/pandas/util/_decorators.py:331\u001b[0m, in \u001b[0;36mdeprecate_nonkeyword_arguments.<locals>.decorate.<locals>.wrapper\u001b[0;34m(*args, **kwargs)\u001b[0m\n\u001b[1;32m    325\u001b[0m \u001b[39mif\u001b[39;00m \u001b[39mlen\u001b[39m(args) \u001b[39m>\u001b[39m num_allow_args:\n\u001b[1;32m    326\u001b[0m     warnings\u001b[39m.\u001b[39mwarn(\n\u001b[1;32m    327\u001b[0m         msg\u001b[39m.\u001b[39mformat(arguments\u001b[39m=\u001b[39m_format_argument_list(allow_args)),\n\u001b[1;32m    328\u001b[0m         \u001b[39mFutureWarning\u001b[39;00m,\n\u001b[1;32m    329\u001b[0m         stacklevel\u001b[39m=\u001b[39mfind_stack_level(),\n\u001b[1;32m    330\u001b[0m     )\n\u001b[0;32m--> 331\u001b[0m \u001b[39mreturn\u001b[39;00m func(\u001b[39m*\u001b[39;49margs, \u001b[39m*\u001b[39;49m\u001b[39m*\u001b[39;49mkwargs)\n",
      "File \u001b[0;32m~/miniconda3/envs/aws-aiml/lib/python3.10/site-packages/pandas/io/parsers/readers.py:950\u001b[0m, in \u001b[0;36mread_csv\u001b[0;34m(filepath_or_buffer, sep, delimiter, header, names, index_col, usecols, squeeze, prefix, mangle_dupe_cols, dtype, engine, converters, true_values, false_values, skipinitialspace, skiprows, skipfooter, nrows, na_values, keep_default_na, na_filter, verbose, skip_blank_lines, parse_dates, infer_datetime_format, keep_date_col, date_parser, dayfirst, cache_dates, iterator, chunksize, compression, thousands, decimal, lineterminator, quotechar, quoting, doublequote, escapechar, comment, encoding, encoding_errors, dialect, error_bad_lines, warn_bad_lines, on_bad_lines, delim_whitespace, low_memory, memory_map, float_precision, storage_options)\u001b[0m\n\u001b[1;32m    935\u001b[0m kwds_defaults \u001b[39m=\u001b[39m _refine_defaults_read(\n\u001b[1;32m    936\u001b[0m     dialect,\n\u001b[1;32m    937\u001b[0m     delimiter,\n\u001b[0;32m   (...)\u001b[0m\n\u001b[1;32m    946\u001b[0m     defaults\u001b[39m=\u001b[39m{\u001b[39m\"\u001b[39m\u001b[39mdelimiter\u001b[39m\u001b[39m\"\u001b[39m: \u001b[39m\"\u001b[39m\u001b[39m,\u001b[39m\u001b[39m\"\u001b[39m},\n\u001b[1;32m    947\u001b[0m )\n\u001b[1;32m    948\u001b[0m kwds\u001b[39m.\u001b[39mupdate(kwds_defaults)\n\u001b[0;32m--> 950\u001b[0m \u001b[39mreturn\u001b[39;00m _read(filepath_or_buffer, kwds)\n",
      "File \u001b[0;32m~/miniconda3/envs/aws-aiml/lib/python3.10/site-packages/pandas/io/parsers/readers.py:611\u001b[0m, in \u001b[0;36m_read\u001b[0;34m(filepath_or_buffer, kwds)\u001b[0m\n\u001b[1;32m    608\u001b[0m     \u001b[39mreturn\u001b[39;00m parser\n\u001b[1;32m    610\u001b[0m \u001b[39mwith\u001b[39;00m parser:\n\u001b[0;32m--> 611\u001b[0m     \u001b[39mreturn\u001b[39;00m parser\u001b[39m.\u001b[39;49mread(nrows)\n",
      "File \u001b[0;32m~/miniconda3/envs/aws-aiml/lib/python3.10/site-packages/pandas/io/parsers/readers.py:1778\u001b[0m, in \u001b[0;36mTextFileReader.read\u001b[0;34m(self, nrows)\u001b[0m\n\u001b[1;32m   1771\u001b[0m nrows \u001b[39m=\u001b[39m validate_integer(\u001b[39m\"\u001b[39m\u001b[39mnrows\u001b[39m\u001b[39m\"\u001b[39m, nrows)\n\u001b[1;32m   1772\u001b[0m \u001b[39mtry\u001b[39;00m:\n\u001b[1;32m   1773\u001b[0m     \u001b[39m# error: \"ParserBase\" has no attribute \"read\"\u001b[39;00m\n\u001b[1;32m   1774\u001b[0m     (\n\u001b[1;32m   1775\u001b[0m         index,\n\u001b[1;32m   1776\u001b[0m         columns,\n\u001b[1;32m   1777\u001b[0m         col_dict,\n\u001b[0;32m-> 1778\u001b[0m     ) \u001b[39m=\u001b[39m \u001b[39mself\u001b[39;49m\u001b[39m.\u001b[39;49m_engine\u001b[39m.\u001b[39;49mread(  \u001b[39m# type: ignore[attr-defined]\u001b[39;49;00m\n\u001b[1;32m   1779\u001b[0m         nrows\n\u001b[1;32m   1780\u001b[0m     )\n\u001b[1;32m   1781\u001b[0m \u001b[39mexcept\u001b[39;00m \u001b[39mException\u001b[39;00m:\n\u001b[1;32m   1782\u001b[0m     \u001b[39mself\u001b[39m\u001b[39m.\u001b[39mclose()\n",
      "File \u001b[0;32m~/miniconda3/envs/aws-aiml/lib/python3.10/site-packages/pandas/io/parsers/c_parser_wrapper.py:230\u001b[0m, in \u001b[0;36mCParserWrapper.read\u001b[0;34m(self, nrows)\u001b[0m\n\u001b[1;32m    228\u001b[0m \u001b[39mtry\u001b[39;00m:\n\u001b[1;32m    229\u001b[0m     \u001b[39mif\u001b[39;00m \u001b[39mself\u001b[39m\u001b[39m.\u001b[39mlow_memory:\n\u001b[0;32m--> 230\u001b[0m         chunks \u001b[39m=\u001b[39m \u001b[39mself\u001b[39;49m\u001b[39m.\u001b[39;49m_reader\u001b[39m.\u001b[39;49mread_low_memory(nrows)\n\u001b[1;32m    231\u001b[0m         \u001b[39m# destructive to chunks\u001b[39;00m\n\u001b[1;32m    232\u001b[0m         data \u001b[39m=\u001b[39m _concatenate_chunks(chunks)\n",
      "File \u001b[0;32m~/miniconda3/envs/aws-aiml/lib/python3.10/site-packages/pandas/_libs/parsers.pyx:808\u001b[0m, in \u001b[0;36mpandas._libs.parsers.TextReader.read_low_memory\u001b[0;34m()\u001b[0m\n",
      "File \u001b[0;32m~/miniconda3/envs/aws-aiml/lib/python3.10/site-packages/pandas/_libs/parsers.pyx:890\u001b[0m, in \u001b[0;36mpandas._libs.parsers.TextReader._read_rows\u001b[0;34m()\u001b[0m\n",
      "File \u001b[0;32m~/miniconda3/envs/aws-aiml/lib/python3.10/site-packages/pandas/_libs/parsers.pyx:1037\u001b[0m, in \u001b[0;36mpandas._libs.parsers.TextReader._convert_column_data\u001b[0;34m()\u001b[0m\n",
      "File \u001b[0;32m~/miniconda3/envs/aws-aiml/lib/python3.10/site-packages/pandas/_libs/parsers.pyx:1083\u001b[0m, in \u001b[0;36mpandas._libs.parsers.TextReader._convert_tokens\u001b[0;34m()\u001b[0m\n",
      "File \u001b[0;32m~/miniconda3/envs/aws-aiml/lib/python3.10/site-packages/pandas/_libs/parsers.pyx:1158\u001b[0m, in \u001b[0;36mpandas._libs.parsers.TextReader._convert_with_dtype\u001b[0;34m()\u001b[0m\n",
      "File \u001b[0;32m~/miniconda3/envs/aws-aiml/lib/python3.10/site-packages/pandas/core/dtypes/common.py:1433\u001b[0m, in \u001b[0;36mis_extension_array_dtype\u001b[0;34m(arr_or_dtype)\u001b[0m\n\u001b[1;32m   1424\u001b[0m     \u001b[39m# Note: if other EA dtypes are ever held in HybridBlock, exclude those\u001b[39;00m\n\u001b[1;32m   1425\u001b[0m     \u001b[39m#  here too.\u001b[39;00m\n\u001b[1;32m   1426\u001b[0m     \u001b[39m# NB: need to check DatetimeTZDtype and not is_datetime64tz_dtype\u001b[39;00m\n\u001b[1;32m   1427\u001b[0m     \u001b[39m#  to exclude ArrowTimestampUSDtype\u001b[39;00m\n\u001b[1;32m   1428\u001b[0m     \u001b[39mreturn\u001b[39;00m \u001b[39misinstance\u001b[39m(dtype, ExtensionDtype) \u001b[39mand\u001b[39;00m \u001b[39mnot\u001b[39;00m \u001b[39misinstance\u001b[39m(\n\u001b[1;32m   1429\u001b[0m         dtype, (DatetimeTZDtype, PeriodDtype)\n\u001b[1;32m   1430\u001b[0m     )\n\u001b[0;32m-> 1433\u001b[0m \u001b[39mdef\u001b[39;00m \u001b[39mis_extension_array_dtype\u001b[39m(arr_or_dtype) \u001b[39m-\u001b[39m\u001b[39m>\u001b[39m \u001b[39mbool\u001b[39m:\n\u001b[1;32m   1434\u001b[0m \u001b[39m    \u001b[39m\u001b[39m\"\"\"\u001b[39;00m\n\u001b[1;32m   1435\u001b[0m \u001b[39m    Check if an object is a pandas extension array type.\u001b[39;00m\n\u001b[1;32m   1436\u001b[0m \n\u001b[0;32m   (...)\u001b[0m\n\u001b[1;32m   1476\u001b[0m \u001b[39m    False\u001b[39;00m\n\u001b[1;32m   1477\u001b[0m \u001b[39m    \"\"\"\u001b[39;00m\n\u001b[1;32m   1478\u001b[0m     dtype \u001b[39m=\u001b[39m \u001b[39mgetattr\u001b[39m(arr_or_dtype, \u001b[39m\"\u001b[39m\u001b[39mdtype\u001b[39m\u001b[39m\"\u001b[39m, arr_or_dtype)\n",
      "\u001b[0;31mKeyboardInterrupt\u001b[0m: "
     ]
    }
   ],
   "source": [
    "user_interactions = pd.read_csv('./data/user-interactions.csv')\n",
    "user_interactions.head()"
   ]
  },
  {
   "cell_type": "code",
   "execution_count": null,
   "metadata": {},
   "outputs": [
    {
     "name": "stdout",
     "output_type": "stream",
     "text": [
      "(11495242, 10)\n"
     ]
    },
    {
     "data": {
      "text/plain": [
       "event_time           0\n",
       "event_type           0\n",
       "product_id           0\n",
       "brand           949132\n",
       "price                0\n",
       "user_id              0\n",
       "cat_0          1527738\n",
       "cat_1          1527738\n",
       "cat_2          5071243\n",
       "cat_3         11488757\n",
       "dtype: int64"
      ]
     },
     "execution_count": 4,
     "metadata": {},
     "output_type": "execute_result"
    }
   ],
   "source": [
    "# 무의하다고 판단되는 clolumn 1차 제거\n",
    "user_interactions_df = user_interactions.drop(columns=['Unnamed: 0', 'user_session', 'target'])\n",
    "print(user_interactions_df.shape)\n",
    "user_interactions_df.isnull().sum()"
   ]
  },
  {
   "cell_type": "code",
   "execution_count": null,
   "metadata": {},
   "outputs": [
    {
     "data": {
      "text/plain": [
       "(5997796, 9)"
      ]
     },
     "execution_count": 5,
     "metadata": {},
     "output_type": "execute_result"
    }
   ],
   "source": [
    "# Null 값이 너무 많은 column 제거\n",
    "user_interactions_df.drop(columns=['cat_3'], inplace=True)\n",
    "user_interactions_df = user_interactions_df.dropna(axis=0)\n",
    "user_interactions_df.shape"
   ]
  },
  {
   "cell_type": "code",
   "execution_count": null,
   "metadata": {},
   "outputs": [
    {
     "data": {
      "text/plain": [
       "event_time    0\n",
       "event_type    0\n",
       "product_id    0\n",
       "brand         0\n",
       "price         0\n",
       "user_id       0\n",
       "cat_0         0\n",
       "cat_1         0\n",
       "cat_2         0\n",
       "dtype: int64"
      ]
     },
     "execution_count": 6,
     "metadata": {},
     "output_type": "execute_result"
    }
   ],
   "source": [
    "#  Null 값 확인\n",
    "user_interactions_df.isnull().sum()"
   ]
  },
  {
   "cell_type": "code",
   "execution_count": null,
   "metadata": {},
   "outputs": [
    {
     "name": "stdout",
     "output_type": "stream",
     "text": [
      "<class 'pandas.core.frame.DataFrame'>\n",
      "Int64Index: 5997796 entries, 4 to 11495241\n",
      "Data columns (total 9 columns):\n",
      " #   Column      Dtype  \n",
      "---  ------      -----  \n",
      " 0   event_time  object \n",
      " 1   event_type  object \n",
      " 2   product_id  int64  \n",
      " 3   brand       object \n",
      " 4   price       float64\n",
      " 5   user_id     int64  \n",
      " 6   cat_0       object \n",
      " 7   cat_1       object \n",
      " 8   cat_2       object \n",
      "dtypes: float64(1), int64(2), object(6)\n",
      "memory usage: 457.6+ MB\n"
     ]
    }
   ],
   "source": [
    "# Dataframe 요약 정보\n",
    "user_interactions_df.info()"
   ]
  },
  {
   "attachments": {},
   "cell_type": "markdown",
   "metadata": {},
   "source": [
    "- event_time:  object --> Unix timestamp 타입 변환 필요"
   ]
  },
  {
   "cell_type": "code",
   "execution_count": null,
   "metadata": {},
   "outputs": [
    {
     "data": {
      "text/html": [
       "<div>\n",
       "<style scoped>\n",
       "    .dataframe tbody tr th:only-of-type {\n",
       "        vertical-align: middle;\n",
       "    }\n",
       "\n",
       "    .dataframe tbody tr th {\n",
       "        vertical-align: top;\n",
       "    }\n",
       "\n",
       "    .dataframe thead th {\n",
       "        text-align: right;\n",
       "    }\n",
       "</style>\n",
       "<table border=\"1\" class=\"dataframe\">\n",
       "  <thead>\n",
       "    <tr style=\"text-align: right;\">\n",
       "      <th></th>\n",
       "      <th>product_id</th>\n",
       "      <th>price</th>\n",
       "      <th>user_id</th>\n",
       "    </tr>\n",
       "  </thead>\n",
       "  <tbody>\n",
       "    <tr>\n",
       "      <th>count</th>\n",
       "      <td>5.997796e+06</td>\n",
       "      <td>5.997796e+06</td>\n",
       "      <td>5.997796e+06</td>\n",
       "    </tr>\n",
       "    <tr>\n",
       "      <th>mean</th>\n",
       "      <td>1.013193e+07</td>\n",
       "      <td>3.377886e+02</td>\n",
       "      <td>5.552734e+08</td>\n",
       "    </tr>\n",
       "    <tr>\n",
       "      <th>std</th>\n",
       "      <td>2.421850e+07</td>\n",
       "      <td>3.461352e+02</td>\n",
       "      <td>3.311072e+07</td>\n",
       "    </tr>\n",
       "    <tr>\n",
       "      <th>min</th>\n",
       "      <td>1.000978e+06</td>\n",
       "      <td>7.700000e-01</td>\n",
       "      <td>3.948059e+07</td>\n",
       "    </tr>\n",
       "    <tr>\n",
       "      <th>25%</th>\n",
       "      <td>1.005003e+06</td>\n",
       "      <td>1.196900e+02</td>\n",
       "      <td>5.209589e+08</td>\n",
       "    </tr>\n",
       "    <tr>\n",
       "      <th>50%</th>\n",
       "      <td>1.005259e+06</td>\n",
       "      <td>2.084700e+02</td>\n",
       "      <td>5.538288e+08</td>\n",
       "    </tr>\n",
       "    <tr>\n",
       "      <th>75%</th>\n",
       "      <td>4.803637e+06</td>\n",
       "      <td>4.335900e+02</td>\n",
       "      <td>5.841051e+08</td>\n",
       "    </tr>\n",
       "    <tr>\n",
       "      <th>max</th>\n",
       "      <td>1.001444e+08</td>\n",
       "      <td>2.574070e+03</td>\n",
       "      <td>6.220901e+08</td>\n",
       "    </tr>\n",
       "  </tbody>\n",
       "</table>\n",
       "</div>"
      ],
      "text/plain": [
       "         product_id         price       user_id\n",
       "count  5.997796e+06  5.997796e+06  5.997796e+06\n",
       "mean   1.013193e+07  3.377886e+02  5.552734e+08\n",
       "std    2.421850e+07  3.461352e+02  3.311072e+07\n",
       "min    1.000978e+06  7.700000e-01  3.948059e+07\n",
       "25%    1.005003e+06  1.196900e+02  5.209589e+08\n",
       "50%    1.005259e+06  2.084700e+02  5.538288e+08\n",
       "75%    4.803637e+06  4.335900e+02  5.841051e+08\n",
       "max    1.001444e+08  2.574070e+03  6.220901e+08"
      ]
     },
     "execution_count": 8,
     "metadata": {},
     "output_type": "execute_result"
    }
   ],
   "source": [
    "#  통계량 요약\n",
    "user_interactions_df.describe()"
   ]
  },
  {
   "attachments": {},
   "cell_type": "markdown",
   "metadata": {},
   "source": [
    "- price 값의 변동량이 너무 크므로 MinMax Scaler 필요"
   ]
  },
  {
   "attachments": {},
   "cell_type": "markdown",
   "metadata": {},
   "source": [
    "### evnet_time type conversion: object to Unix timestamp"
   ]
  },
  {
   "cell_type": "code",
   "execution_count": null,
   "metadata": {},
   "outputs": [
    {
     "data": {
      "text/html": [
       "<div>\n",
       "<style scoped>\n",
       "    .dataframe tbody tr th:only-of-type {\n",
       "        vertical-align: middle;\n",
       "    }\n",
       "\n",
       "    .dataframe tbody tr th {\n",
       "        vertical-align: top;\n",
       "    }\n",
       "\n",
       "    .dataframe thead th {\n",
       "        text-align: right;\n",
       "    }\n",
       "</style>\n",
       "<table border=\"1\" class=\"dataframe\">\n",
       "  <thead>\n",
       "    <tr style=\"text-align: right;\">\n",
       "      <th></th>\n",
       "      <th>event_time</th>\n",
       "      <th>event_type</th>\n",
       "      <th>product_id</th>\n",
       "      <th>brand</th>\n",
       "      <th>price</th>\n",
       "      <th>user_id</th>\n",
       "      <th>cat_0</th>\n",
       "      <th>cat_1</th>\n",
       "      <th>cat_2</th>\n",
       "    </tr>\n",
       "  </thead>\n",
       "  <tbody>\n",
       "    <tr>\n",
       "      <th>4</th>\n",
       "      <td>2022-11-01 00:10:45</td>\n",
       "      <td>cart</td>\n",
       "      <td>4804056</td>\n",
       "      <td>apple</td>\n",
       "      <td>160.57</td>\n",
       "      <td>522355747</td>\n",
       "      <td>electronics</td>\n",
       "      <td>audio</td>\n",
       "      <td>headphone</td>\n",
       "    </tr>\n",
       "    <tr>\n",
       "      <th>13</th>\n",
       "      <td>2022-11-01 00:24:48</td>\n",
       "      <td>cart</td>\n",
       "      <td>4804295</td>\n",
       "      <td>xiaomi</td>\n",
       "      <td>22.80</td>\n",
       "      <td>550508533</td>\n",
       "      <td>electronics</td>\n",
       "      <td>audio</td>\n",
       "      <td>headphone</td>\n",
       "    </tr>\n",
       "    <tr>\n",
       "      <th>14</th>\n",
       "      <td>2022-11-01 00:25:12</td>\n",
       "      <td>cart</td>\n",
       "      <td>4804295</td>\n",
       "      <td>xiaomi</td>\n",
       "      <td>22.80</td>\n",
       "      <td>550508533</td>\n",
       "      <td>electronics</td>\n",
       "      <td>audio</td>\n",
       "      <td>headphone</td>\n",
       "    </tr>\n",
       "    <tr>\n",
       "      <th>17</th>\n",
       "      <td>2022-11-01 00:31:35</td>\n",
       "      <td>cart</td>\n",
       "      <td>1801881</td>\n",
       "      <td>samsung</td>\n",
       "      <td>488.80</td>\n",
       "      <td>566283686</td>\n",
       "      <td>electronics</td>\n",
       "      <td>video</td>\n",
       "      <td>tv</td>\n",
       "    </tr>\n",
       "    <tr>\n",
       "      <th>35</th>\n",
       "      <td>2022-11-01 00:49:04</td>\n",
       "      <td>cart</td>\n",
       "      <td>3700689</td>\n",
       "      <td>samsung</td>\n",
       "      <td>191.74</td>\n",
       "      <td>529765040</td>\n",
       "      <td>appliances</td>\n",
       "      <td>environment</td>\n",
       "      <td>vacuum</td>\n",
       "    </tr>\n",
       "    <tr>\n",
       "      <th>...</th>\n",
       "      <td>...</td>\n",
       "      <td>...</td>\n",
       "      <td>...</td>\n",
       "      <td>...</td>\n",
       "      <td>...</td>\n",
       "      <td>...</td>\n",
       "      <td>...</td>\n",
       "      <td>...</td>\n",
       "      <td>...</td>\n",
       "    </tr>\n",
       "    <tr>\n",
       "      <th>11495235</th>\n",
       "      <td>2023-01-31 23:57:38</td>\n",
       "      <td>purchase</td>\n",
       "      <td>1005184</td>\n",
       "      <td>samsung</td>\n",
       "      <td>977.86</td>\n",
       "      <td>595018267</td>\n",
       "      <td>appliances</td>\n",
       "      <td>kitchen</td>\n",
       "      <td>refrigerators</td>\n",
       "    </tr>\n",
       "    <tr>\n",
       "      <th>11495236</th>\n",
       "      <td>2023-01-31 23:57:52</td>\n",
       "      <td>purchase</td>\n",
       "      <td>26300086</td>\n",
       "      <td>lucente</td>\n",
       "      <td>237.84</td>\n",
       "      <td>514851004</td>\n",
       "      <td>appliances</td>\n",
       "      <td>kitchen</td>\n",
       "      <td>coffee_grinder</td>\n",
       "    </tr>\n",
       "    <tr>\n",
       "      <th>11495238</th>\n",
       "      <td>2023-01-31 23:58:35</td>\n",
       "      <td>purchase</td>\n",
       "      <td>1004210</td>\n",
       "      <td>samsung</td>\n",
       "      <td>79.54</td>\n",
       "      <td>571761801</td>\n",
       "      <td>construction</td>\n",
       "      <td>tools</td>\n",
       "      <td>light</td>\n",
       "    </tr>\n",
       "    <tr>\n",
       "      <th>11495240</th>\n",
       "      <td>2023-01-31 23:59:39</td>\n",
       "      <td>purchase</td>\n",
       "      <td>1005186</td>\n",
       "      <td>samsung</td>\n",
       "      <td>720.46</td>\n",
       "      <td>599883250</td>\n",
       "      <td>appliances</td>\n",
       "      <td>kitchen</td>\n",
       "      <td>refrigerators</td>\n",
       "    </tr>\n",
       "    <tr>\n",
       "      <th>11495241</th>\n",
       "      <td>2023-01-31 23:59:51</td>\n",
       "      <td>purchase</td>\n",
       "      <td>1004839</td>\n",
       "      <td>oppo</td>\n",
       "      <td>178.82</td>\n",
       "      <td>513349988</td>\n",
       "      <td>construction</td>\n",
       "      <td>tools</td>\n",
       "      <td>light</td>\n",
       "    </tr>\n",
       "  </tbody>\n",
       "</table>\n",
       "<p>5971228 rows × 9 columns</p>\n",
       "</div>"
      ],
      "text/plain": [
       "                  event_time event_type  product_id    brand   price    user_id         cat_0        cat_1           cat_2\n",
       "4        2022-11-01 00:10:45       cart     4804056    apple  160.57  522355747   electronics        audio       headphone\n",
       "13       2022-11-01 00:24:48       cart     4804295   xiaomi   22.80  550508533   electronics        audio       headphone\n",
       "14       2022-11-01 00:25:12       cart     4804295   xiaomi   22.80  550508533   electronics        audio       headphone\n",
       "17       2022-11-01 00:31:35       cart     1801881  samsung  488.80  566283686   electronics        video              tv\n",
       "35       2022-11-01 00:49:04       cart     3700689  samsung  191.74  529765040    appliances  environment          vacuum\n",
       "...                      ...        ...         ...      ...     ...        ...           ...          ...             ...\n",
       "11495235 2023-01-31 23:57:38   purchase     1005184  samsung  977.86  595018267    appliances      kitchen   refrigerators\n",
       "11495236 2023-01-31 23:57:52   purchase    26300086  lucente  237.84  514851004    appliances      kitchen  coffee_grinder\n",
       "11495238 2023-01-31 23:58:35   purchase     1004210  samsung   79.54  571761801  construction        tools           light\n",
       "11495240 2023-01-31 23:59:39   purchase     1005186  samsung  720.46  599883250    appliances      kitchen   refrigerators\n",
       "11495241 2023-01-31 23:59:51   purchase     1004839     oppo  178.82  513349988  construction        tools           light\n",
       "\n",
       "[5971228 rows x 9 columns]"
      ]
     },
     "execution_count": 23,
     "metadata": {},
     "output_type": "execute_result"
    }
   ],
   "source": [
    "user_interactions_df2 = user_interactions_df.copy()\n",
    "\n",
    "# 유효하지 않는  format은  NaT으로 변환\n",
    "user_interactions_df2['event_time'] = pd.to_datetime(user_interactions_df2['event_time'], format=\"%Y-%m-%d %H:%M:%S UTC\", errors='coerce')\n",
    "user_interactions_df2.dropna()"
   ]
  },
  {
   "cell_type": "code",
   "execution_count": null,
   "metadata": {},
   "outputs": [
    {
     "name": "stdout",
     "output_type": "stream",
     "text": [
      "<class 'pandas.core.frame.DataFrame'>\n",
      "Int64Index: 5997796 entries, 4 to 11495241\n",
      "Data columns (total 9 columns):\n",
      " #   Column      Dtype  \n",
      "---  ------      -----  \n",
      " 0   event_time  float64\n",
      " 1   event_type  object \n",
      " 2   product_id  int64  \n",
      " 3   brand       object \n",
      " 4   price       float64\n",
      " 5   user_id     int64  \n",
      " 6   cat_0       object \n",
      " 7   cat_1       object \n",
      " 8   cat_2       object \n",
      "dtypes: float64(2), int64(2), object(5)\n",
      "memory usage: 586.6+ MB\n"
     ]
    }
   ],
   "source": [
    "\n",
    "# event_time의 datetime을 Unix timestamp 타입으로\n",
    "user_interactions_df2['event_time'] = user_interactions_df2.event_time.apply(lambda x : (x-datetime.datetime(1970,1,1)).total_seconds())\n",
    "user_interactions_df2.info()"
   ]
  },
  {
   "cell_type": "code",
   "execution_count": null,
   "metadata": {},
   "outputs": [],
   "source": [
    "# price MinMax Sacler 적용\n",
    "from sklearn.preprocessing import MinMaxScaler\n",
    "scaler = MinMaxScaler()\n",
    "user_interactions_df2['price'] = scaler.fit_transform(user_interactions_df2[['price']])"
   ]
  },
  {
   "cell_type": "code",
   "execution_count": null,
   "metadata": {},
   "outputs": [
    {
     "data": {
      "text/html": [
       "<div>\n",
       "<style scoped>\n",
       "    .dataframe tbody tr th:only-of-type {\n",
       "        vertical-align: middle;\n",
       "    }\n",
       "\n",
       "    .dataframe tbody tr th {\n",
       "        vertical-align: top;\n",
       "    }\n",
       "\n",
       "    .dataframe thead th {\n",
       "        text-align: right;\n",
       "    }\n",
       "</style>\n",
       "<table border=\"1\" class=\"dataframe\">\n",
       "  <thead>\n",
       "    <tr style=\"text-align: right;\">\n",
       "      <th></th>\n",
       "      <th>event_time</th>\n",
       "      <th>event_type</th>\n",
       "      <th>product_id</th>\n",
       "      <th>brand</th>\n",
       "      <th>price</th>\n",
       "      <th>user_id</th>\n",
       "      <th>cat_0</th>\n",
       "      <th>cat_1</th>\n",
       "      <th>cat_2</th>\n",
       "    </tr>\n",
       "  </thead>\n",
       "  <tbody>\n",
       "    <tr>\n",
       "      <th>4</th>\n",
       "      <td>1.667261e+09</td>\n",
       "      <td>cart</td>\n",
       "      <td>4804056</td>\n",
       "      <td>apple</td>\n",
       "      <td>0.062099</td>\n",
       "      <td>522355747</td>\n",
       "      <td>electronics</td>\n",
       "      <td>audio</td>\n",
       "      <td>headphone</td>\n",
       "    </tr>\n",
       "    <tr>\n",
       "      <th>13</th>\n",
       "      <td>1.667262e+09</td>\n",
       "      <td>cart</td>\n",
       "      <td>4804295</td>\n",
       "      <td>xiaomi</td>\n",
       "      <td>0.008561</td>\n",
       "      <td>550508533</td>\n",
       "      <td>electronics</td>\n",
       "      <td>audio</td>\n",
       "      <td>headphone</td>\n",
       "    </tr>\n",
       "    <tr>\n",
       "      <th>14</th>\n",
       "      <td>1.667262e+09</td>\n",
       "      <td>cart</td>\n",
       "      <td>4804295</td>\n",
       "      <td>xiaomi</td>\n",
       "      <td>0.008561</td>\n",
       "      <td>550508533</td>\n",
       "      <td>electronics</td>\n",
       "      <td>audio</td>\n",
       "      <td>headphone</td>\n",
       "    </tr>\n",
       "    <tr>\n",
       "      <th>17</th>\n",
       "      <td>1.667263e+09</td>\n",
       "      <td>cart</td>\n",
       "      <td>1801881</td>\n",
       "      <td>samsung</td>\n",
       "      <td>0.189651</td>\n",
       "      <td>566283686</td>\n",
       "      <td>electronics</td>\n",
       "      <td>video</td>\n",
       "      <td>tv</td>\n",
       "    </tr>\n",
       "    <tr>\n",
       "      <th>35</th>\n",
       "      <td>1.667264e+09</td>\n",
       "      <td>cart</td>\n",
       "      <td>3700689</td>\n",
       "      <td>samsung</td>\n",
       "      <td>0.074212</td>\n",
       "      <td>529765040</td>\n",
       "      <td>appliances</td>\n",
       "      <td>environment</td>\n",
       "      <td>vacuum</td>\n",
       "    </tr>\n",
       "  </tbody>\n",
       "</table>\n",
       "</div>"
      ],
      "text/plain": [
       "      event_time event_type  product_id    brand     price    user_id        cat_0        cat_1      cat_2\n",
       "4   1.667261e+09       cart     4804056    apple  0.062099  522355747  electronics        audio  headphone\n",
       "13  1.667262e+09       cart     4804295   xiaomi  0.008561  550508533  electronics        audio  headphone\n",
       "14  1.667262e+09       cart     4804295   xiaomi  0.008561  550508533  electronics        audio  headphone\n",
       "17  1.667263e+09       cart     1801881  samsung  0.189651  566283686  electronics        video         tv\n",
       "35  1.667264e+09       cart     3700689  samsung  0.074212  529765040   appliances  environment     vacuum"
      ]
     },
     "execution_count": 27,
     "metadata": {},
     "output_type": "execute_result"
    }
   ],
   "source": [
    "user_interactions_df2.head()"
   ]
  },
  {
   "cell_type": "code",
   "execution_count": null,
   "metadata": {},
   "outputs": [],
   "source": [
    "# rename columne:  Personalize를 위한 필수 항목: USER_ID, ITEM_ID, TIMESTAMP\n",
    "user_interactions_df2.rename(columns={\"user_id\": \"USER_ID\", \"product_id\": \"ITEM_ID\", \"event_time\": \"TIMESTAMP\", \"event_type\": \"EVENT_TYPE\", \"brand\": \"BRAND\",\n",
    "                                      \"price\": \"PRICE\", \"cat_0\": \"CAT_0\", \"cat_1\": \"CAT_1\", \"cat_2\": \"CAT_2\" }, inplace=True)\n",
    "user_interactions_df2 = user_interactions_df2.reindex(columns=['USER_ID', 'ITEM_ID', 'TIMESTAMP', \"EVENT_TYPE\", \"PRICE\", \"BRAND\", \"CAT_0\", \"CAT_1\", \"CAT_2\"])"
   ]
  },
  {
   "cell_type": "code",
   "execution_count": null,
   "metadata": {},
   "outputs": [
    {
     "data": {
      "text/html": [
       "<div>\n",
       "<style scoped>\n",
       "    .dataframe tbody tr th:only-of-type {\n",
       "        vertical-align: middle;\n",
       "    }\n",
       "\n",
       "    .dataframe tbody tr th {\n",
       "        vertical-align: top;\n",
       "    }\n",
       "\n",
       "    .dataframe thead th {\n",
       "        text-align: right;\n",
       "    }\n",
       "</style>\n",
       "<table border=\"1\" class=\"dataframe\">\n",
       "  <thead>\n",
       "    <tr style=\"text-align: right;\">\n",
       "      <th></th>\n",
       "      <th>USER_ID</th>\n",
       "      <th>ITEM_ID</th>\n",
       "      <th>TIMESTAMP</th>\n",
       "      <th>EVENT_TYPE</th>\n",
       "      <th>PRICE</th>\n",
       "      <th>BRAND</th>\n",
       "      <th>CAT_0</th>\n",
       "      <th>CAT_1</th>\n",
       "      <th>CAT_2</th>\n",
       "    </tr>\n",
       "  </thead>\n",
       "  <tbody>\n",
       "    <tr>\n",
       "      <th>4</th>\n",
       "      <td>522355747</td>\n",
       "      <td>4804056</td>\n",
       "      <td>1.667261e+09</td>\n",
       "      <td>cart</td>\n",
       "      <td>0.062099</td>\n",
       "      <td>apple</td>\n",
       "      <td>electronics</td>\n",
       "      <td>audio</td>\n",
       "      <td>headphone</td>\n",
       "    </tr>\n",
       "    <tr>\n",
       "      <th>13</th>\n",
       "      <td>550508533</td>\n",
       "      <td>4804295</td>\n",
       "      <td>1.667262e+09</td>\n",
       "      <td>cart</td>\n",
       "      <td>0.008561</td>\n",
       "      <td>xiaomi</td>\n",
       "      <td>electronics</td>\n",
       "      <td>audio</td>\n",
       "      <td>headphone</td>\n",
       "    </tr>\n",
       "    <tr>\n",
       "      <th>14</th>\n",
       "      <td>550508533</td>\n",
       "      <td>4804295</td>\n",
       "      <td>1.667262e+09</td>\n",
       "      <td>cart</td>\n",
       "      <td>0.008561</td>\n",
       "      <td>xiaomi</td>\n",
       "      <td>electronics</td>\n",
       "      <td>audio</td>\n",
       "      <td>headphone</td>\n",
       "    </tr>\n",
       "    <tr>\n",
       "      <th>17</th>\n",
       "      <td>566283686</td>\n",
       "      <td>1801881</td>\n",
       "      <td>1.667263e+09</td>\n",
       "      <td>cart</td>\n",
       "      <td>0.189651</td>\n",
       "      <td>samsung</td>\n",
       "      <td>electronics</td>\n",
       "      <td>video</td>\n",
       "      <td>tv</td>\n",
       "    </tr>\n",
       "    <tr>\n",
       "      <th>35</th>\n",
       "      <td>529765040</td>\n",
       "      <td>3700689</td>\n",
       "      <td>1.667264e+09</td>\n",
       "      <td>cart</td>\n",
       "      <td>0.074212</td>\n",
       "      <td>samsung</td>\n",
       "      <td>appliances</td>\n",
       "      <td>environment</td>\n",
       "      <td>vacuum</td>\n",
       "    </tr>\n",
       "  </tbody>\n",
       "</table>\n",
       "</div>"
      ],
      "text/plain": [
       "      USER_ID  ITEM_ID     TIMESTAMP EVENT_TYPE     PRICE    BRAND        CAT_0        CAT_1      CAT_2\n",
       "4   522355747  4804056  1.667261e+09       cart  0.062099    apple  electronics        audio  headphone\n",
       "13  550508533  4804295  1.667262e+09       cart  0.008561   xiaomi  electronics        audio  headphone\n",
       "14  550508533  4804295  1.667262e+09       cart  0.008561   xiaomi  electronics        audio  headphone\n",
       "17  566283686  1801881  1.667263e+09       cart  0.189651  samsung  electronics        video         tv\n",
       "35  529765040  3700689  1.667264e+09       cart  0.074212  samsung   appliances  environment     vacuum"
      ]
     },
     "execution_count": 33,
     "metadata": {},
     "output_type": "execute_result"
    }
   ],
   "source": [
    "user_interactions_df2.head()"
   ]
  },
  {
   "cell_type": "code",
   "execution_count": null,
   "metadata": {},
   "outputs": [],
   "source": [
    "# 정제된 데이터를 파일로 저장\n",
    "user_interactions_df2.to_csv(\"./data/cleaned_user_interactions.csv\", index=False)"
   ]
  },
  {
   "cell_type": "code",
   "execution_count": 3,
   "metadata": {},
   "outputs": [
    {
     "name": "stdout",
     "output_type": "stream",
     "text": [
      "(5997796, 9)\n"
     ]
    },
    {
     "data": {
      "text/html": [
       "<div>\n",
       "<style scoped>\n",
       "    .dataframe tbody tr th:only-of-type {\n",
       "        vertical-align: middle;\n",
       "    }\n",
       "\n",
       "    .dataframe tbody tr th {\n",
       "        vertical-align: top;\n",
       "    }\n",
       "\n",
       "    .dataframe thead th {\n",
       "        text-align: right;\n",
       "    }\n",
       "</style>\n",
       "<table border=\"1\" class=\"dataframe\">\n",
       "  <thead>\n",
       "    <tr style=\"text-align: right;\">\n",
       "      <th></th>\n",
       "      <th>USER_ID</th>\n",
       "      <th>ITEM_ID</th>\n",
       "      <th>TIMESTAMP</th>\n",
       "      <th>EVENT_TYPE</th>\n",
       "      <th>PRICE</th>\n",
       "      <th>BRAND</th>\n",
       "      <th>CAT_0</th>\n",
       "      <th>CAT_1</th>\n",
       "      <th>CAT_2</th>\n",
       "    </tr>\n",
       "  </thead>\n",
       "  <tbody>\n",
       "    <tr>\n",
       "      <th>0</th>\n",
       "      <td>522355747</td>\n",
       "      <td>4804056</td>\n",
       "      <td>1.667261e+09</td>\n",
       "      <td>cart</td>\n",
       "      <td>0.062099</td>\n",
       "      <td>apple</td>\n",
       "      <td>electronics</td>\n",
       "      <td>audio</td>\n",
       "      <td>headphone</td>\n",
       "    </tr>\n",
       "    <tr>\n",
       "      <th>1</th>\n",
       "      <td>550508533</td>\n",
       "      <td>4804295</td>\n",
       "      <td>1.667262e+09</td>\n",
       "      <td>cart</td>\n",
       "      <td>0.008561</td>\n",
       "      <td>xiaomi</td>\n",
       "      <td>electronics</td>\n",
       "      <td>audio</td>\n",
       "      <td>headphone</td>\n",
       "    </tr>\n",
       "    <tr>\n",
       "      <th>2</th>\n",
       "      <td>550508533</td>\n",
       "      <td>4804295</td>\n",
       "      <td>1.667262e+09</td>\n",
       "      <td>cart</td>\n",
       "      <td>0.008561</td>\n",
       "      <td>xiaomi</td>\n",
       "      <td>electronics</td>\n",
       "      <td>audio</td>\n",
       "      <td>headphone</td>\n",
       "    </tr>\n",
       "    <tr>\n",
       "      <th>3</th>\n",
       "      <td>566283686</td>\n",
       "      <td>1801881</td>\n",
       "      <td>1.667263e+09</td>\n",
       "      <td>cart</td>\n",
       "      <td>0.189651</td>\n",
       "      <td>samsung</td>\n",
       "      <td>electronics</td>\n",
       "      <td>video</td>\n",
       "      <td>tv</td>\n",
       "    </tr>\n",
       "    <tr>\n",
       "      <th>4</th>\n",
       "      <td>529765040</td>\n",
       "      <td>3700689</td>\n",
       "      <td>1.667264e+09</td>\n",
       "      <td>cart</td>\n",
       "      <td>0.074212</td>\n",
       "      <td>samsung</td>\n",
       "      <td>appliances</td>\n",
       "      <td>environment</td>\n",
       "      <td>vacuum</td>\n",
       "    </tr>\n",
       "  </tbody>\n",
       "</table>\n",
       "</div>"
      ],
      "text/plain": [
       "     USER_ID  ITEM_ID     TIMESTAMP EVENT_TYPE     PRICE    BRAND        CAT_0        CAT_1      CAT_2\n",
       "0  522355747  4804056  1.667261e+09       cart  0.062099    apple  electronics        audio  headphone\n",
       "1  550508533  4804295  1.667262e+09       cart  0.008561   xiaomi  electronics        audio  headphone\n",
       "2  550508533  4804295  1.667262e+09       cart  0.008561   xiaomi  electronics        audio  headphone\n",
       "3  566283686  1801881  1.667263e+09       cart  0.189651  samsung  electronics        video         tv\n",
       "4  529765040  3700689  1.667264e+09       cart  0.074212  samsung   appliances  environment     vacuum"
      ]
     },
     "execution_count": 3,
     "metadata": {},
     "output_type": "execute_result"
    }
   ],
   "source": [
    "interactions = pd.read_csv('./data/cleaned_user_interactions.csv')\n",
    "print(interactions.shape)\n",
    "interactions.head()"
   ]
  },
  {
   "cell_type": "code",
   "execution_count": 15,
   "metadata": {},
   "outputs": [
    {
     "data": {
      "text/plain": [
       "568782581     True\n",
       "513230794     True\n",
       "549109608     True\n",
       "553431815     True\n",
       "582826305     True\n",
       "             ...  \n",
       "556264149    False\n",
       "520949146    False\n",
       "586824173    False\n",
       "550128253    False\n",
       "514851004    False\n",
       "Name: USER_ID, Length: 1607025, dtype: bool"
      ]
     },
     "execution_count": 15,
     "metadata": {},
     "output_type": "execute_result"
    }
   ],
   "source": [
    "# At minimum 1000 interactions records from users interacting with items in your catalog.\n",
    "# At minimum 25 unique user IDs with at least 2 interactions for each.\n",
    "\n",
    "interactions['USER_ID'].value_counts() >= 3"
   ]
  },
  {
   "cell_type": "code",
   "execution_count": null,
   "metadata": {},
   "outputs": [],
   "source": []
  }
 ],
 "metadata": {
  "kernelspec": {
   "display_name": "aws-aiml",
   "language": "python",
   "name": "python3"
  },
  "language_info": {
   "codemirror_mode": {
    "name": "ipython",
    "version": 3
   },
   "file_extension": ".py",
   "mimetype": "text/x-python",
   "name": "python",
   "nbconvert_exporter": "python",
   "pygments_lexer": "ipython3",
   "version": "3.10.9"
  },
  "orig_nbformat": 4,
  "vscode": {
   "interpreter": {
    "hash": "2f1b3fcb20ec9c63a72a90240cd0ecd228c2ecf5259b8c8b407d7315226f675b"
   }
  }
 },
 "nbformat": 4,
 "nbformat_minor": 2
}
